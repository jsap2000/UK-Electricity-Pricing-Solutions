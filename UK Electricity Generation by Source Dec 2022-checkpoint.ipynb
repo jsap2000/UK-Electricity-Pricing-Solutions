{
 "cells": [
  {
   "cell_type": "code",
   "execution_count": 46,
   "id": "f89f6e09",
   "metadata": {
    "scrolled": true
   },
   "outputs": [
    {
     "name": "stdout",
     "output_type": "stream",
     "text": [
      "    Table 5.1 Fuel used in electricity generation and electricity supplied quarter 1 1998 to quarter 1 2022  \\\n",
      "0    This worksheet contains three tables presented...                                                        \n",
      "1    In table 1, the first six rows of data use dif...                                                        \n",
      "2    Figures in this table are rounded to four deci...                                                        \n",
      "3    Table 5.1a: fuel used in electricity generatio...                                                        \n",
      "4                                       Generator type                                                        \n",
      "..                                                 ...                                                        \n",
      "121                           All generating companies                                                        \n",
      "122                           All generating companies                                                        \n",
      "123                           All generating companies                                                        \n",
      "124                           All generating companies                                                        \n",
      "125                           All generating companies                                                        \n",
      "\n",
      "                         Unnamed: 1      Unnamed: 2      Unnamed: 3  \\\n",
      "0                               NaN             NaN             NaN   \n",
      "1                               NaN             NaN             NaN   \n",
      "2                               NaN             NaN             NaN   \n",
      "3                               NaN             NaN             NaN   \n",
      "4                              Fuel  Quarter 1 1998  Quarter 2 1998   \n",
      "..                              ...             ...             ...   \n",
      "121                       Bioenergy          0.7057          0.7279   \n",
      "122                     Other fuels          1.4878          0.8651   \n",
      "123     Pumped storage (net supply)          -0.262         -0.2343   \n",
      "124                     Net imports          4.2141          3.9784   \n",
      "125  Total all generating companies          97.223         83.0776   \n",
      "\n",
      "         Unnamed: 4      Unnamed: 5      Unnamed: 6      Unnamed: 7  \\\n",
      "0               NaN             NaN             NaN             NaN   \n",
      "1               NaN             NaN             NaN             NaN   \n",
      "2               NaN             NaN             NaN             NaN   \n",
      "3               NaN             NaN             NaN             NaN   \n",
      "4    Quarter 3 1998  Quarter 4 1998  Quarter 1 1999  Quarter 2 1999   \n",
      "..              ...             ...             ...             ...   \n",
      "121           0.745          0.7851          0.8685          0.9163   \n",
      "122          0.8107          0.8782          1.5141          0.8803   \n",
      "123         -0.2592          -0.269         -0.2768           -0.23   \n",
      "124          0.8469          3.4287          3.6215          3.7084   \n",
      "125         79.1277         95.7399         98.9667         84.1395   \n",
      "\n",
      "         Unnamed: 8      Unnamed: 9  ...     Unnamed: 91     Unnamed: 92  \\\n",
      "0               NaN             NaN  ...             NaN             NaN   \n",
      "1               NaN             NaN  ...             NaN             NaN   \n",
      "2               NaN             NaN  ...             NaN             NaN   \n",
      "3               NaN             NaN  ...             NaN             NaN   \n",
      "4    Quarter 3 1999  Quarter 4 1999  ...  Quarter 2 2020  Quarter 3 2020   \n",
      "..              ...             ...  ...             ...             ...   \n",
      "121          0.9457          0.9706  ...          8.2918          7.6168   \n",
      "122          0.8249          0.8937  ...          1.6721          1.5773   \n",
      "123         -0.2423          -0.221  ...         -0.1049          -0.097   \n",
      "124          3.2944            3.62  ...          4.4611          2.3395   \n",
      "125         81.4928         97.3169  ...         67.6434         72.0855   \n",
      "\n",
      "        Unnamed: 93     Unnamed: 94     Unnamed: 95     Unnamed: 96  \\\n",
      "0               NaN             NaN             NaN             NaN   \n",
      "1               NaN             NaN             NaN             NaN   \n",
      "2               NaN             NaN             NaN             NaN   \n",
      "3               NaN             NaN             NaN             NaN   \n",
      "4    Quarter 4 2020  Quarter 1 2021  Quarter 2 2021  Quarter 3 2021   \n",
      "..              ...             ...             ...             ...   \n",
      "121          8.3287          8.9028          8.3621          7.8198   \n",
      "122          1.5756          1.6685          1.6538          1.5829   \n",
      "123         -0.1372         -0.1401         -0.1532         -0.1671   \n",
      "124          5.3076          6.3113          6.0872          7.6478   \n",
      "125         85.8064         86.2223         75.1394         71.7957   \n",
      "\n",
      "        Unnamed: 97     Unnamed: 98     Unnamed: 99  \\\n",
      "0               NaN             NaN             NaN   \n",
      "1               NaN             NaN             NaN   \n",
      "2               NaN             NaN             NaN   \n",
      "3               NaN             NaN             NaN   \n",
      "4    Quarter 4 2021  Quarter 1 2022  Quarter 2 2022   \n",
      "..              ...             ...             ...   \n",
      "121          9.1793          8.8995          7.1512   \n",
      "122           1.811          1.7809          1.8745   \n",
      "123         -0.1611         -0.1668         -0.1488   \n",
      "124          4.5311          4.9434         -3.9625   \n",
      "125         83.6397         85.3602         71.3881   \n",
      "\n",
      "                     Unnamed: 100  \n",
      "0                             NaN  \n",
      "1                             NaN  \n",
      "2                             NaN  \n",
      "3                             NaN  \n",
      "4    Quarter 3 2022 [provisional]  \n",
      "..                            ...  \n",
      "121                        8.2155  \n",
      "122                        1.8776  \n",
      "123                       -0.1601  \n",
      "124                       -4.8531  \n",
      "125                       69.3136  \n",
      "\n",
      "[126 rows x 101 columns]\n"
     ]
    }
   ],
   "source": [
    "import pandas as pd\n",
    "import numpy as np\n",
    "\n",
    "#Let UKEGS be the UK generation of electricity by source\n",
    "UKEGS = pd.read_excel(r'C:\\Users\\anton_zpf58tt\\OneDrive - University of Glasgow\\Year 4\\ET_5.1_DEC_22.xlsx', sheet_name='Quarter')\n",
    "\n",
    "print(df)"
   ]
  },
  {
   "cell_type": "code",
   "execution_count": 61,
   "id": "610883d9",
   "metadata": {
    "scrolled": true
   },
   "outputs": [
    {
     "ename": "AttributeError",
     "evalue": "'DataFrame' object has no attribute 'ix'",
     "output_type": "error",
     "traceback": [
      "\u001b[1;31m---------------------------------------------------------------------------\u001b[0m",
      "\u001b[1;31mAttributeError\u001b[0m                            Traceback (most recent call last)",
      "\u001b[1;32m~\\AppData\\Local\\Temp\\ipykernel_5104\\337213403.py\u001b[0m in \u001b[0;36m<module>\u001b[1;34m\u001b[0m\n\u001b[1;32m----> 1\u001b[1;33m \u001b[0mUKEGSall\u001b[0m \u001b[1;33m=\u001b[0m \u001b[0mUKEGS\u001b[0m\u001b[1;33m.\u001b[0m\u001b[0mix\u001b[0m\u001b[1;33m[\u001b[0m\u001b[1;36m58\u001b[0m\u001b[1;33m,\u001b[0m\u001b[1;33m:\u001b[0m\u001b[1;33m]\u001b[0m \u001b[1;33m+\u001b[0m \u001b[0mUKEGS\u001b[0m\u001b[1;33m.\u001b[0m\u001b[0mix\u001b[0m\u001b[1;33m[\u001b[0m\u001b[1;36m69\u001b[0m\u001b[1;33m:\u001b[0m\u001b[1;36m82\u001b[0m\u001b[1;33m]\u001b[0m\u001b[1;33m\u001b[0m\u001b[1;33m\u001b[0m\u001b[0m\n\u001b[0m\u001b[0;32m      2\u001b[0m \u001b[1;33m\u001b[0m\u001b[0m\n\u001b[0;32m      3\u001b[0m \u001b[0mprint\u001b[0m\u001b[1;33m(\u001b[0m\u001b[0mUKEGSall\u001b[0m\u001b[1;33m)\u001b[0m\u001b[1;33m\u001b[0m\u001b[1;33m\u001b[0m\u001b[0m\n",
      "\u001b[1;32m~\\anaconda3\\lib\\site-packages\\pandas\\core\\generic.py\u001b[0m in \u001b[0;36m__getattr__\u001b[1;34m(self, name)\u001b[0m\n\u001b[0;32m   5573\u001b[0m         ):\n\u001b[0;32m   5574\u001b[0m             \u001b[1;32mreturn\u001b[0m \u001b[0mself\u001b[0m\u001b[1;33m[\u001b[0m\u001b[0mname\u001b[0m\u001b[1;33m]\u001b[0m\u001b[1;33m\u001b[0m\u001b[1;33m\u001b[0m\u001b[0m\n\u001b[1;32m-> 5575\u001b[1;33m         \u001b[1;32mreturn\u001b[0m \u001b[0mobject\u001b[0m\u001b[1;33m.\u001b[0m\u001b[0m__getattribute__\u001b[0m\u001b[1;33m(\u001b[0m\u001b[0mself\u001b[0m\u001b[1;33m,\u001b[0m \u001b[0mname\u001b[0m\u001b[1;33m)\u001b[0m\u001b[1;33m\u001b[0m\u001b[1;33m\u001b[0m\u001b[0m\n\u001b[0m\u001b[0;32m   5576\u001b[0m \u001b[1;33m\u001b[0m\u001b[0m\n\u001b[0;32m   5577\u001b[0m     \u001b[1;32mdef\u001b[0m \u001b[0m__setattr__\u001b[0m\u001b[1;33m(\u001b[0m\u001b[0mself\u001b[0m\u001b[1;33m,\u001b[0m \u001b[0mname\u001b[0m\u001b[1;33m:\u001b[0m \u001b[0mstr\u001b[0m\u001b[1;33m,\u001b[0m \u001b[0mvalue\u001b[0m\u001b[1;33m)\u001b[0m \u001b[1;33m->\u001b[0m \u001b[1;32mNone\u001b[0m\u001b[1;33m:\u001b[0m\u001b[1;33m\u001b[0m\u001b[1;33m\u001b[0m\u001b[0m\n",
      "\u001b[1;31mAttributeError\u001b[0m: 'DataFrame' object has no attribute 'ix'"
     ]
    }
   ],
   "source": [
    "UKEGSall = UKEGS.ix[58,:] + UKEGS.ix[69:82]\n",
    "\n",
    "print(UKEGSall)"
   ]
  },
  {
   "cell_type": "code",
   "execution_count": null,
   "id": "6846c55f",
   "metadata": {},
   "outputs": [],
   "source": []
  }
 ],
 "metadata": {
  "kernelspec": {
   "display_name": "Python 3 (ipykernel)",
   "language": "python",
   "name": "python3"
  },
  "language_info": {
   "codemirror_mode": {
    "name": "ipython",
    "version": 3
   },
   "file_extension": ".py",
   "mimetype": "text/x-python",
   "name": "python",
   "nbconvert_exporter": "python",
   "pygments_lexer": "ipython3",
   "version": "3.9.13"
  }
 },
 "nbformat": 4,
 "nbformat_minor": 5
}
