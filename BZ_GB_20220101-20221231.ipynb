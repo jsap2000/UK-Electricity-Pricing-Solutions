{
 "cells": [
  {
   "cell_type": "code",
   "execution_count": 1,
   "id": "51647dea",
   "metadata": {},
   "outputs": [
    {
     "name": "stderr",
     "output_type": "stream",
     "text": [
      "WARNING: pip is being invoked by an old script wrapper. This will fail in a future version of pip.\n",
      "Please see https://github.com/pypa/pip/issues/5599 for advice on fixing the underlying issue.\n",
      "To avoid this problem you can invoke Python with '-m pip' instead of running pip directly.\n"
     ]
    },
    {
     "data": {
      "text/html": [
       "<pre style=\"white-space:pre;overflow-x:auto;line-height:normal;font-family:Menlo,'DejaVu Sans Mono',consolas,'Courier New',monospace\">Requirement already satisfied: BeautifulSoup4 in c:\\users\\anton_zpf58tt\\anaconda3\\lib\\site-packages (4.11.1)\n",
       "</pre>\n"
      ],
      "text/plain": [
       "Requirement already satisfied: BeautifulSoup4 in c:\\users\\anton_zpf58tt\\anaconda3\\lib\\site-packages (4.11.1)\n"
      ]
     },
     "metadata": {},
     "output_type": "display_data"
    },
    {
     "data": {
      "text/html": [
       "<pre style=\"white-space:pre;overflow-x:auto;line-height:normal;font-family:Menlo,'DejaVu Sans Mono',consolas,'Courier New',monospace\">Requirement already satisfied: soupsieve&gt;1.2 in c:\\users\\anton_zpf58tt\\anaconda3\\lib\\site-packages (from BeautifulSoup4) (2.3.1)\n",
       "</pre>\n"
      ],
      "text/plain": [
       "Requirement already satisfied: soupsieve>1.2 in c:\\users\\anton_zpf58tt\\anaconda3\\lib\\site-packages (from BeautifulSoup4) (2.3.1)\n"
      ]
     },
     "metadata": {},
     "output_type": "display_data"
    },
    {
     "name": "stderr",
     "output_type": "stream",
     "text": [
      "WARNING: pip is being invoked by an old script wrapper. This will fail in a future version of pip.\n",
      "Please see https://github.com/pypa/pip/issues/5599 for advice on fixing the underlying issue.\n",
      "To avoid this problem you can invoke Python with '-m pip' instead of running pip directly.\n"
     ]
    },
    {
     "data": {
      "text/html": [
       "<pre style=\"white-space:pre;overflow-x:auto;line-height:normal;font-family:Menlo,'DejaVu Sans Mono',consolas,'Courier New',monospace\">Requirement already satisfied: html5lib in c:\\users\\anton_zpf58tt\\anaconda3\\lib\\site-packages (1.1)\n",
       "</pre>\n"
      ],
      "text/plain": [
       "Requirement already satisfied: html5lib in c:\\users\\anton_zpf58tt\\anaconda3\\lib\\site-packages (1.1)\n"
      ]
     },
     "metadata": {},
     "output_type": "display_data"
    },
    {
     "data": {
      "text/html": [
       "<pre style=\"white-space:pre;overflow-x:auto;line-height:normal;font-family:Menlo,'DejaVu Sans Mono',consolas,'Courier New',monospace\">Requirement already satisfied: webencodings in c:\\users\\anton_zpf58tt\\anaconda3\\lib\\site-packages (from html5lib) (0.5.1)\n",
       "</pre>\n"
      ],
      "text/plain": [
       "Requirement already satisfied: webencodings in c:\\users\\anton_zpf58tt\\anaconda3\\lib\\site-packages (from html5lib) (0.5.1)\n"
      ]
     },
     "metadata": {},
     "output_type": "display_data"
    },
    {
     "data": {
      "text/html": [
       "<pre style=\"white-space:pre;overflow-x:auto;line-height:normal;font-family:Menlo,'DejaVu Sans Mono',consolas,'Courier New',monospace\">Requirement already satisfied: six&gt;=1.9 in c:\\users\\anton_zpf58tt\\anaconda3\\lib\\site-packages (from html5lib) (1.16.0)\n",
       "</pre>\n"
      ],
      "text/plain": [
       "Requirement already satisfied: six>=1.9 in c:\\users\\anton_zpf58tt\\anaconda3\\lib\\site-packages (from html5lib) (1.16.0)\n"
      ]
     },
     "metadata": {},
     "output_type": "display_data"
    },
    {
     "name": "stderr",
     "output_type": "stream",
     "text": [
      "WARNING: pip is being invoked by an old script wrapper. This will fail in a future version of pip.\n",
      "Please see https://github.com/pypa/pip/issues/5599 for advice on fixing the underlying issue.\n",
      "To avoid this problem you can invoke Python with '-m pip' instead of running pip directly.\n"
     ]
    },
    {
     "data": {
      "text/html": [
       "<pre style=\"white-space:pre;overflow-x:auto;line-height:normal;font-family:Menlo,'DejaVu Sans Mono',consolas,'Courier New',monospace\">Requirement already satisfied: selenium in c:\\users\\anton_zpf58tt\\anaconda3\\lib\\site-packages (4.7.2)\n",
       "</pre>\n"
      ],
      "text/plain": [
       "Requirement already satisfied: selenium in c:\\users\\anton_zpf58tt\\anaconda3\\lib\\site-packages (4.7.2)\n"
      ]
     },
     "metadata": {},
     "output_type": "display_data"
    },
    {
     "data": {
      "text/html": [
       "<pre style=\"white-space:pre;overflow-x:auto;line-height:normal;font-family:Menlo,'DejaVu Sans Mono',consolas,'Courier New',monospace\">Requirement already satisfied: trio~=0.17 in c:\\users\\anton_zpf58tt\\anaconda3\\lib\\site-packages (from selenium) (0.22.0)\n",
       "</pre>\n"
      ],
      "text/plain": [
       "Requirement already satisfied: trio~=0.17 in c:\\users\\anton_zpf58tt\\anaconda3\\lib\\site-packages (from selenium) (0.22.0)\n"
      ]
     },
     "metadata": {},
     "output_type": "display_data"
    },
    {
     "data": {
      "text/html": [
       "<pre style=\"white-space:pre;overflow-x:auto;line-height:normal;font-family:Menlo,'DejaVu Sans Mono',consolas,'Courier New',monospace\">Requirement already satisfied: certifi&gt;=2021.10.8 in c:\\users\\anton_zpf58tt\\anaconda3\\lib\\site-packages (from selenium) (2022.9.14)\n",
       "</pre>\n"
      ],
      "text/plain": [
       "Requirement already satisfied: certifi>=2021.10.8 in c:\\users\\anton_zpf58tt\\anaconda3\\lib\\site-packages (from selenium) (2022.9.14)\n"
      ]
     },
     "metadata": {},
     "output_type": "display_data"
    },
    {
     "data": {
      "text/html": [
       "<pre style=\"white-space:pre;overflow-x:auto;line-height:normal;font-family:Menlo,'DejaVu Sans Mono',consolas,'Courier New',monospace\">Requirement already satisfied: trio-websocket~=0.9 in c:\\users\\anton_zpf58tt\\anaconda3\\lib\\site-packages (from selenium) (0.9.2)\n",
       "</pre>\n"
      ],
      "text/plain": [
       "Requirement already satisfied: trio-websocket~=0.9 in c:\\users\\anton_zpf58tt\\anaconda3\\lib\\site-packages (from selenium) (0.9.2)\n"
      ]
     },
     "metadata": {},
     "output_type": "display_data"
    },
    {
     "data": {
      "text/html": [
       "<pre style=\"white-space:pre;overflow-x:auto;line-height:normal;font-family:Menlo,'DejaVu Sans Mono',consolas,'Courier New',monospace\">Requirement already satisfied: urllib3[socks]~=1.26 in c:\\users\\anton_zpf58tt\\anaconda3\\lib\\site-packages (from selenium) (1.26.11)\n",
       "</pre>\n"
      ],
      "text/plain": [
       "Requirement already satisfied: urllib3[socks]~=1.26 in c:\\users\\anton_zpf58tt\\anaconda3\\lib\\site-packages (from selenium) (1.26.11)\n"
      ]
     },
     "metadata": {},
     "output_type": "display_data"
    },
    {
     "data": {
      "text/html": [
       "<pre style=\"white-space:pre;overflow-x:auto;line-height:normal;font-family:Menlo,'DejaVu Sans Mono',consolas,'Courier New',monospace\">Requirement already satisfied: sortedcontainers in c:\\users\\anton_zpf58tt\\anaconda3\\lib\\site-packages (from trio~=0.17-&gt;selenium) (2.4.0)\n",
       "</pre>\n"
      ],
      "text/plain": [
       "Requirement already satisfied: sortedcontainers in c:\\users\\anton_zpf58tt\\anaconda3\\lib\\site-packages (from trio~=0.17->selenium) (2.4.0)\n"
      ]
     },
     "metadata": {},
     "output_type": "display_data"
    },
    {
     "data": {
      "text/html": [
       "<pre style=\"white-space:pre;overflow-x:auto;line-height:normal;font-family:Menlo,'DejaVu Sans Mono',consolas,'Courier New',monospace\">Requirement already satisfied: idna in c:\\users\\anton_zpf58tt\\anaconda3\\lib\\site-packages (from trio~=0.17-&gt;selenium) (3.3)\n",
       "</pre>\n"
      ],
      "text/plain": [
       "Requirement already satisfied: idna in c:\\users\\anton_zpf58tt\\anaconda3\\lib\\site-packages (from trio~=0.17->selenium) (3.3)\n"
      ]
     },
     "metadata": {},
     "output_type": "display_data"
    },
    {
     "data": {
      "text/html": [
       "<pre style=\"white-space:pre;overflow-x:auto;line-height:normal;font-family:Menlo,'DejaVu Sans Mono',consolas,'Courier New',monospace\">Requirement already satisfied: cffi&gt;=1.14 in c:\\users\\anton_zpf58tt\\anaconda3\\lib\\site-packages (from trio~=0.17-&gt;selenium) (1.15.1)\n",
       "</pre>\n"
      ],
      "text/plain": [
       "Requirement already satisfied: cffi>=1.14 in c:\\users\\anton_zpf58tt\\anaconda3\\lib\\site-packages (from trio~=0.17->selenium) (1.15.1)\n"
      ]
     },
     "metadata": {},
     "output_type": "display_data"
    },
    {
     "data": {
      "text/html": [
       "<pre style=\"white-space:pre;overflow-x:auto;line-height:normal;font-family:Menlo,'DejaVu Sans Mono',consolas,'Courier New',monospace\">Requirement already satisfied: async-generator&gt;=1.9 in c:\\users\\anton_zpf58tt\\anaconda3\\lib\\site-packages (from trio~=0.17-&gt;selenium) (1.10)\n",
       "</pre>\n"
      ],
      "text/plain": [
       "Requirement already satisfied: async-generator>=1.9 in c:\\users\\anton_zpf58tt\\anaconda3\\lib\\site-packages (from trio~=0.17->selenium) (1.10)\n"
      ]
     },
     "metadata": {},
     "output_type": "display_data"
    },
    {
     "data": {
      "text/html": [
       "<pre style=\"white-space:pre;overflow-x:auto;line-height:normal;font-family:Menlo,'DejaVu Sans Mono',consolas,'Courier New',monospace\">Requirement already satisfied: exceptiongroup&gt;=1.0.0rc9 in c:\\users\\anton_zpf58tt\\anaconda3\\lib\\site-packages (from trio~=0.17-&gt;selenium) (1.1.0)\n",
       "</pre>\n"
      ],
      "text/plain": [
       "Requirement already satisfied: exceptiongroup>=1.0.0rc9 in c:\\users\\anton_zpf58tt\\anaconda3\\lib\\site-packages (from trio~=0.17->selenium) (1.1.0)\n"
      ]
     },
     "metadata": {},
     "output_type": "display_data"
    },
    {
     "data": {
      "text/html": [
       "<pre style=\"white-space:pre;overflow-x:auto;line-height:normal;font-family:Menlo,'DejaVu Sans Mono',consolas,'Courier New',monospace\">Requirement already satisfied: outcome in c:\\users\\anton_zpf58tt\\anaconda3\\lib\\site-packages (from trio~=0.17-&gt;selenium) (1.2.0)\n",
       "</pre>\n"
      ],
      "text/plain": [
       "Requirement already satisfied: outcome in c:\\users\\anton_zpf58tt\\anaconda3\\lib\\site-packages (from trio~=0.17->selenium) (1.2.0)\n"
      ]
     },
     "metadata": {},
     "output_type": "display_data"
    },
    {
     "data": {
      "text/html": [
       "<pre style=\"white-space:pre;overflow-x:auto;line-height:normal;font-family:Menlo,'DejaVu Sans Mono',consolas,'Courier New',monospace\">Requirement already satisfied: sniffio in c:\\users\\anton_zpf58tt\\anaconda3\\lib\\site-packages (from trio~=0.17-&gt;selenium) (1.2.0)\n",
       "</pre>\n"
      ],
      "text/plain": [
       "Requirement already satisfied: sniffio in c:\\users\\anton_zpf58tt\\anaconda3\\lib\\site-packages (from trio~=0.17->selenium) (1.2.0)\n"
      ]
     },
     "metadata": {},
     "output_type": "display_data"
    },
    {
     "data": {
      "text/html": [
       "<pre style=\"white-space:pre;overflow-x:auto;line-height:normal;font-family:Menlo,'DejaVu Sans Mono',consolas,'Courier New',monospace\">Requirement already satisfied: attrs&gt;=19.2.0 in c:\\users\\anton_zpf58tt\\anaconda3\\lib\\site-packages (from trio~=0.17-&gt;selenium) (21.4.0)\n",
       "</pre>\n"
      ],
      "text/plain": [
       "Requirement already satisfied: attrs>=19.2.0 in c:\\users\\anton_zpf58tt\\anaconda3\\lib\\site-packages (from trio~=0.17->selenium) (21.4.0)\n"
      ]
     },
     "metadata": {},
     "output_type": "display_data"
    },
    {
     "data": {
      "text/html": [
       "<pre style=\"white-space:pre;overflow-x:auto;line-height:normal;font-family:Menlo,'DejaVu Sans Mono',consolas,'Courier New',monospace\">Requirement already satisfied: wsproto&gt;=0.14 in c:\\users\\anton_zpf58tt\\anaconda3\\lib\\site-packages (from trio-websocket~=0.9-&gt;selenium) (1.2.0)\n",
       "</pre>\n"
      ],
      "text/plain": [
       "Requirement already satisfied: wsproto>=0.14 in c:\\users\\anton_zpf58tt\\anaconda3\\lib\\site-packages (from trio-websocket~=0.9->selenium) (1.2.0)\n"
      ]
     },
     "metadata": {},
     "output_type": "display_data"
    },
    {
     "data": {
      "text/html": [
       "<pre style=\"white-space:pre;overflow-x:auto;line-height:normal;font-family:Menlo,'DejaVu Sans Mono',consolas,'Courier New',monospace\">Requirement already satisfied: PySocks!=1.5.7,&lt;2.0,&gt;=1.5.6 in c:\\users\\anton_zpf58tt\\anaconda3\\lib\\site-packages (from urllib3[socks]~=1.26-&gt;selenium) (1.7.1)\n",
       "</pre>\n"
      ],
      "text/plain": [
       "Requirement already satisfied: PySocks!=1.5.7,<2.0,>=1.5.6 in c:\\users\\anton_zpf58tt\\anaconda3\\lib\\site-packages (from urllib3[socks]~=1.26->selenium) (1.7.1)\n"
      ]
     },
     "metadata": {},
     "output_type": "display_data"
    },
    {
     "data": {
      "text/html": [
       "<pre style=\"white-space:pre;overflow-x:auto;line-height:normal;font-family:Menlo,'DejaVu Sans Mono',consolas,'Courier New',monospace\">Requirement already satisfied: pycparser in c:\\users\\anton_zpf58tt\\anaconda3\\lib\\site-packages (from cffi&gt;=1.14-&gt;trio~=0.17-&gt;selenium) (2.21)\n",
       "</pre>\n"
      ],
      "text/plain": [
       "Requirement already satisfied: pycparser in c:\\users\\anton_zpf58tt\\anaconda3\\lib\\site-packages (from cffi>=1.14->trio~=0.17->selenium) (2.21)\n"
      ]
     },
     "metadata": {},
     "output_type": "display_data"
    },
    {
     "data": {
      "text/html": [
       "<pre style=\"white-space:pre;overflow-x:auto;line-height:normal;font-family:Menlo,'DejaVu Sans Mono',consolas,'Courier New',monospace\">Requirement already satisfied: h11&lt;1,&gt;=0.9.0 in c:\\users\\anton_zpf58tt\\anaconda3\\lib\\site-packages (from wsproto&gt;=0.14-&gt;trio-websocket~=0.9-&gt;selenium) (0.14.0)\n",
       "</pre>\n"
      ],
      "text/plain": [
       "Requirement already satisfied: h11<1,>=0.9.0 in c:\\users\\anton_zpf58tt\\anaconda3\\lib\\site-packages (from wsproto>=0.14->trio-websocket~=0.9->selenium) (0.14.0)\n"
      ]
     },
     "metadata": {},
     "output_type": "display_data"
    }
   ],
   "source": [
    "import pip\n",
    "import pandas as pd\n",
    "\n",
    "if int(pip.__version__.split('.')[0])>9:\n",
    "        from pip._internal import main\n",
    "else:\n",
    "        from pip import main\n",
    "def install(package):\n",
    "        main(['install', package])\n",
    "        \n",
    "install('BeautifulSoup4')\n",
    "install('html5lib')\n",
    "install('selenium')"
   ]
  },
  {
   "cell_type": "markdown",
   "id": "c27d917a",
   "metadata": {},
   "source": [
    "Here I experimented a bit first with BeautifulSoup"
   ]
  },
  {
   "cell_type": "code",
   "execution_count": null,
   "id": "191c4793",
   "metadata": {},
   "outputs": [],
   "source": [
    "# Making a GET request\n",
    "import requests\n",
    "from bs4 import BeautifulSoup\n",
    "\n",
    "url = \"https://www.nordpoolgroup.com/en/Market-data1/GB/Auction-prices/UK/Daily/?view=table\"\n",
    "r = requests.get(url)\n",
    " \n",
    "# check status code for response received\n",
    "# success code - 200\n",
    "print(r)\n",
    " \n",
    "# print content of request\n",
    "print(r.content)\n",
    "\n",
    "# Parsing the HTML\n",
    "soup = BeautifulSoup(r.content, 'html.parser')\n",
    "print(soup.prettify())"
   ]
  },
  {
   "cell_type": "code",
   "execution_count": null,
   "id": "816c9698",
   "metadata": {},
   "outputs": [],
   "source": [
    "# Finding by id\n",
    "s = soup.find('td', id= 'main')\n",
    " \n",
    "# Getting the leftbar\n",
    "evenrow = s.find('tr', class_='data-row evenrow')\n",
    " \n",
    "# All the li under the above ul\n",
    "content = evenrow.find_all('li')\n",
    " \n",
    "print(content)"
   ]
  },
  {
   "cell_type": "markdown",
   "id": "862aff3c",
   "metadata": {},
   "source": [
    "Here is the final code I decided to use. It requires Selenium. This section scrapes the information needed from the Nord Pool website."
   ]
  },
  {
   "cell_type": "code",
   "execution_count": 2,
   "id": "0d2a92df",
   "metadata": {},
   "outputs": [
    {
     "name": "stdout",
     "output_type": "stream",
     "text": [
      "01 105,63 399,44 101,31 115,19 468,00 356,04 253,32 197,69 153,01 293,05 287,56 209,88 82,89\n",
      "02 184,86 376,87 80,85 193,63 368,70 276,56 187,84 174,44 179,99 306,93 263,32 208,64 67,04\n",
      "03 160,58 304,23 112,02 243,12 300,07 293,31 200,73 140,20 203,75 269,88 365,94 196,05 80,94\n",
      "04 121,00 304,71 185,97 188,84 274,37 313,54 197,79 150,80 198,33 223,98 428,90 190,90 162,10\n",
      "05 145,05 341,62 130,87 134,88 326,48 332,03 255,44 146,44 192,97 247,14 385,68 188,31 199,53\n",
      "06 122,14 367,66 117,93 88,23 375,31 302,67 264,18 158,30 166,49 214,80 442,00 151,06 237,01\n",
      "07 118,64 358,56 105,35 122,84 331,04 272,57 225,12 184,08 157,24 218,40 449,82 210,16 231,60\n",
      "08 88,78 422,30 94,11 174,38 310,17 331,19 268,21 154,99 160,78 244,18 480,30 187,16 230,35\n",
      "09 137,08 438,01 127,38 136,38 325,46 340,08 233,82 138,50 126,86 242,06 474,16 197,34 198,12\n",
      "10 139,21 364,42 96,95 163,19 361,53 323,49 222,47 122,88 99,48 246,24 368,16 196,94 238,58\n",
      "11 111,69 377,75 82,72 213,13 373,76 341,04 320,15 55,17 73,75 239,98 287,63 202,43 251,39\n",
      "12 112,09 664,34 124,40 191,39 380,01 398,26 275,66 126,07 89,55 233,25 246,70 182,88 231,08\n",
      "13 112,71 450,65 120,32 232,26 400,65 368,04 312,95 168,92 96,31 227,59 212,40 193,67 227,20\n",
      "14 106,31 420,01 167,41 209,55 389,28 362,79 361,57 185,01 120,91 226,30 283,16 200,01 373,21\n",
      "15 107,50 410,25 122,56 143,43 358,70 411,34 302,63 196,04 117,55 194,09 281,56 200,84 235,22\n",
      "16 171,04 424,52 144,87 120,11 333,28 440,97 236,63 207,60 134,08 153,84 306,79 180,40 212,79\n",
      "17 176,48 289,12 133,56 129,51 240,75 485,03 214,34 233,35 141,14 128,57 259,33 142,13 328,57\n",
      "18 155,45 250,26 126,84 166,66 233,02 482,21 392,21 173,54 143,49 135,69 241,05 189,07 236,69\n",
      "19 175,70 184,13 153,61 71,49 270,27 454,36 284,00 176,05 141,42 189,17 225,59 168,29 205,76\n",
      "20 185,39 215,60 134,40 109,46 368,29 381,29 296,57 213,04 140,33 195,80 216,53 139,01 218,28\n",
      "21 164,82 203,08 160,85 113,18 270,01 409,68 325,68 258,97 122,05 185,29 231,36 172,03 212,17\n",
      "22 - 236,78 203,99 122,15 280,86 591,30 336,44 244,05 135,57 171,67 235,39 183,70 201,57\n",
      "23 - 196,88 144,77 97,19 293,99 636,23 292,45 265,56 186,47 150,72 239,13 192,56 206,27\n",
      "24 - 123,83 141,01 75,46 273,49 623,82 261,56 212,27 160,04 166,77 254,87 194,06 341,99\n",
      "25 - 124,63 168,30 92,83 228,92 599,62 270,30 179,11 142,47 206,64 277,19 258,55 271,05\n",
      "26 - 85,78 171,14 78,20 203,17 675,94 303,17 160,75 134,85 203,44 240,84 242,39 231,80\n",
      "27 - 151,40 158,01 91,76 210,42 559,00 367,21 209,65 118,77 213,56 239,40 213,95 221,84\n",
      "28 - 119,47 367,86 89,44 240,31 528,68 388,90 174,64 137,26 219,31 247,73 222,64 231,55\n",
      "29 - 52,51 404,29 102,23 324,73 605,18 376,94 251,85 172,53 217,08 255,98 180,92\n",
      "30 - 92,39 383,26 100,40 207,20 612,29 323,61 317,04 211,87 169,85 279,25 232,51\n",
      "31 - 147,39 125,68 488,04 308,39 202,24 285,47 207,49\n"
     ]
    },
    {
     "data": {
      "text/html": [
       "<div>\n",
       "<style scoped>\n",
       "    .dataframe tbody tr th:only-of-type {\n",
       "        vertical-align: middle;\n",
       "    }\n",
       "\n",
       "    .dataframe tbody tr th {\n",
       "        vertical-align: top;\n",
       "    }\n",
       "\n",
       "    .dataframe thead th {\n",
       "        text-align: right;\n",
       "    }\n",
       "</style>\n",
       "<table border=\"1\" class=\"dataframe\">\n",
       "  <thead>\n",
       "    <tr style=\"text-align: right;\">\n",
       "      <th></th>\n",
       "      <th>0</th>\n",
       "      <th>1</th>\n",
       "      <th>2</th>\n",
       "      <th>3</th>\n",
       "      <th>4</th>\n",
       "      <th>5</th>\n",
       "      <th>6</th>\n",
       "      <th>7</th>\n",
       "      <th>8</th>\n",
       "      <th>9</th>\n",
       "      <th>...</th>\n",
       "      <th>21</th>\n",
       "      <th>22</th>\n",
       "      <th>23</th>\n",
       "      <th>24</th>\n",
       "      <th>25</th>\n",
       "      <th>26</th>\n",
       "      <th>27</th>\n",
       "      <th>28</th>\n",
       "      <th>29</th>\n",
       "      <th>30</th>\n",
       "    </tr>\n",
       "  </thead>\n",
       "  <tbody>\n",
       "    <tr>\n",
       "      <th>0</th>\n",
       "      <td>01 105,63 399,44 101,31 115,19 468,00 356,04 2...</td>\n",
       "      <td>02 184,86 376,87 80,85 193,63 368,70 276,56 18...</td>\n",
       "      <td>03 160,58 304,23 112,02 243,12 300,07 293,31 2...</td>\n",
       "      <td>04 121,00 304,71 185,97 188,84 274,37 313,54 1...</td>\n",
       "      <td>05 145,05 341,62 130,87 134,88 326,48 332,03 2...</td>\n",
       "      <td>06 122,14 367,66 117,93 88,23 375,31 302,67 26...</td>\n",
       "      <td>07 118,64 358,56 105,35 122,84 331,04 272,57 2...</td>\n",
       "      <td>08 88,78 422,30 94,11 174,38 310,17 331,19 268...</td>\n",
       "      <td>09 137,08 438,01 127,38 136,38 325,46 340,08 2...</td>\n",
       "      <td>10 139,21 364,42 96,95 163,19 361,53 323,49 22...</td>\n",
       "      <td>...</td>\n",
       "      <td>22 - 236,78 203,99 122,15 280,86 591,30 336,44...</td>\n",
       "      <td>23 - 196,88 144,77 97,19 293,99 636,23 292,45 ...</td>\n",
       "      <td>24 - 123,83 141,01 75,46 273,49 623,82 261,56 ...</td>\n",
       "      <td>25 - 124,63 168,30 92,83 228,92 599,62 270,30 ...</td>\n",
       "      <td>26 - 85,78 171,14 78,20 203,17 675,94 303,17 1...</td>\n",
       "      <td>27 - 151,40 158,01 91,76 210,42 559,00 367,21 ...</td>\n",
       "      <td>28 - 119,47 367,86 89,44 240,31 528,68 388,90 ...</td>\n",
       "      <td>29 - 52,51 404,29 102,23 324,73 605,18 376,94 ...</td>\n",
       "      <td>30 - 92,39 383,26 100,40 207,20 612,29 323,61 ...</td>\n",
       "      <td>31 - 147,39 125,68 488,04 308,39 202,24 285,47...</td>\n",
       "    </tr>\n",
       "  </tbody>\n",
       "</table>\n",
       "<p>1 rows × 31 columns</p>\n",
       "</div>"
      ],
      "text/plain": [
       "                                                  0   \\\n",
       "0  01 105,63 399,44 101,31 115,19 468,00 356,04 2...   \n",
       "\n",
       "                                                  1   \\\n",
       "0  02 184,86 376,87 80,85 193,63 368,70 276,56 18...   \n",
       "\n",
       "                                                  2   \\\n",
       "0  03 160,58 304,23 112,02 243,12 300,07 293,31 2...   \n",
       "\n",
       "                                                  3   \\\n",
       "0  04 121,00 304,71 185,97 188,84 274,37 313,54 1...   \n",
       "\n",
       "                                                  4   \\\n",
       "0  05 145,05 341,62 130,87 134,88 326,48 332,03 2...   \n",
       "\n",
       "                                                  5   \\\n",
       "0  06 122,14 367,66 117,93 88,23 375,31 302,67 26...   \n",
       "\n",
       "                                                  6   \\\n",
       "0  07 118,64 358,56 105,35 122,84 331,04 272,57 2...   \n",
       "\n",
       "                                                  7   \\\n",
       "0  08 88,78 422,30 94,11 174,38 310,17 331,19 268...   \n",
       "\n",
       "                                                  8   \\\n",
       "0  09 137,08 438,01 127,38 136,38 325,46 340,08 2...   \n",
       "\n",
       "                                                  9   ...  \\\n",
       "0  10 139,21 364,42 96,95 163,19 361,53 323,49 22...  ...   \n",
       "\n",
       "                                                  21  \\\n",
       "0  22 - 236,78 203,99 122,15 280,86 591,30 336,44...   \n",
       "\n",
       "                                                  22  \\\n",
       "0  23 - 196,88 144,77 97,19 293,99 636,23 292,45 ...   \n",
       "\n",
       "                                                  23  \\\n",
       "0  24 - 123,83 141,01 75,46 273,49 623,82 261,56 ...   \n",
       "\n",
       "                                                  24  \\\n",
       "0  25 - 124,63 168,30 92,83 228,92 599,62 270,30 ...   \n",
       "\n",
       "                                                  25  \\\n",
       "0  26 - 85,78 171,14 78,20 203,17 675,94 303,17 1...   \n",
       "\n",
       "                                                  26  \\\n",
       "0  27 - 151,40 158,01 91,76 210,42 559,00 367,21 ...   \n",
       "\n",
       "                                                  27  \\\n",
       "0  28 - 119,47 367,86 89,44 240,31 528,68 388,90 ...   \n",
       "\n",
       "                                                  28  \\\n",
       "0  29 - 52,51 404,29 102,23 324,73 605,18 376,94 ...   \n",
       "\n",
       "                                                  29  \\\n",
       "0  30 - 92,39 383,26 100,40 207,20 612,29 323,61 ...   \n",
       "\n",
       "                                                  30  \n",
       "0  31 - 147,39 125,68 488,04 308,39 202,24 285,47...  \n",
       "\n",
       "[1 rows x 31 columns]"
      ]
     },
     "execution_count": 2,
     "metadata": {},
     "output_type": "execute_result"
    }
   ],
   "source": [
    "import pandas as pd\n",
    "from selenium.webdriver.common.by import By\n",
    "from selenium.webdriver.support.ui import WebDriverWait\n",
    "from selenium.webdriver.support import expected_conditions as EC\n",
    "from selenium import webdriver\n",
    "\n",
    "spec_name=[]\n",
    "spec_name1=[]\n",
    "spec_name2=[]\n",
    "spec_item1=[]\n",
    "spec_item2=[]\n",
    "spec_item3=[]\n",
    "spec_item4=[]\n",
    "spec_item5=[]\n",
    "spec_item6=[]\n",
    "spec_item7=[]\n",
    "\n",
    "driver = webdriver.Edge()\n",
    "\n",
    "url = str(\"https://www.nordpoolgroup.com/en/Market-data1/GB/Auction-prices/UK/Daily/?view=table\")\n",
    "driver.get(url)\n",
    "\n",
    "tables = WebDriverWait(driver,20).until(EC.presence_of_all_elements_located((By.XPATH, \"/html/body/div[2]/div/div/div/div[3]/div/div[3]/div[2]/div[1]/div[2]/div/table[1]\")))\n",
    "\n",
    "table_list = []\n",
    "\n",
    "for table in tables:\n",
    "    rows=[]\n",
    "    for row in table.find_elements(By.XPATH, \"./tbody/tr\"):\n",
    "        #spec_name.append(row.find_element(By.XPATH, './th').get_attribute('textContent'))\n",
    "        #spec_item.append(row.find_element(By.XPATH, './td').get_attribute('textContent'))\n",
    "        #spec_item.append(row.find_element(By.XPATH, './td').get_attribute('textContent'))\n",
    "        #spec_name.append(row.find_element(By.CLASS_NAME, 'row-name').get_attribute('Day'))\n",
    "        #print(row)\n",
    "        #spec_name1.append(row.find_element(By.XPATH, './td[2]')).get_attributed('Jan-23')\n",
    "        #spec_item1.append(row.find_element(By.XPATH, './td[2]')).get_attributed('Jan-23')\n",
    "        #spec_item2.append(row.find_element(By.XPATH, './td[3]'))\n",
    "        #spec_item3.append(row.find_element(By.XPATH, './td[4]')).get_attributed('Nov-22')\n",
    "        #spec_item4.append(row.find_element(By.XPATH, './td[5]')).get_attributed('Oct-22')\n",
    "        #spec_item5.append(row.find_element(By.XPATH, './td[6]')).get_attributed('Sep-22')\n",
    "        #spec_item6.append(row.find_element(By.XPATH, './td[7]')).get_attributed('Aug-22')\n",
    "        #spec_item7.append(row.find_element(By.XPATH, './td[8]')).get_attributed('Jul-22')\n",
    "        #spec_item8.append(row.find_element(By.XPATH, './td[9]')).get_attributed('Jun-22')\n",
    "        #spec_item9.append(row.find_element(By.XPATH, './td[10]')).get_attributed('May-22')\n",
    "        #spec_item10.append(row.find_element(By.XPATH, './td[11]')).get_attributed('Apr-22')\n",
    "        #spec_item11.append(row.find_element(By.XPATH, './td[12]')).get_attributed('Mar-22')\n",
    "        #spec_item12.append(row.find_element(By.XPATH, './td[13]')).get_attributed('Feb-22')\n",
    "        #spec_item13.append(row.find_element(By.XPATH, './td[14]')).get_attributed('Jan-22')\n",
    "        print(row.text)\n",
    "        rows.append(row.text)\n",
    "    table_list.append(rows)\n",
    "#df = pd.DataFrame({\"Day\":spec_name,\"Jan-23\":spec_item1, \"Dec-22\": spec_item2})\n",
    "#df = pd.DataFrame({\"Day\":spec_name, \"Dec-22\":spec_item2})\n",
    "\n",
    "df = pd.DataFrame(table_list)\n",
    "df\n",
    "\n",
    "#print(df)\n"
   ]
  },
  {
   "cell_type": "markdown",
   "id": "32d5efa1",
   "metadata": {},
   "source": [
    "This section takes the dataframe of data collected and creates a csv file to be used later."
   ]
  },
  {
   "cell_type": "code",
   "execution_count": 3,
   "id": "a6a86365",
   "metadata": {
    "scrolled": true
   },
   "outputs": [
    {
     "name": "stdout",
     "output_type": "stream",
     "text": [
      "                                                    0\n",
      "0   01 105,63 399,44 101,31 115,19 468,00 356,04 2...\n",
      "1   02 184,86 376,87 80,85 193,63 368,70 276,56 18...\n",
      "2   03 160,58 304,23 112,02 243,12 300,07 293,31 2...\n",
      "3   04 121,00 304,71 185,97 188,84 274,37 313,54 1...\n",
      "4   05 145,05 341,62 130,87 134,88 326,48 332,03 2...\n",
      "5   06 122,14 367,66 117,93 88,23 375,31 302,67 26...\n",
      "6   07 118,64 358,56 105,35 122,84 331,04 272,57 2...\n",
      "7   08 88,78 422,30 94,11 174,38 310,17 331,19 268...\n",
      "8   09 137,08 438,01 127,38 136,38 325,46 340,08 2...\n",
      "9   10 139,21 364,42 96,95 163,19 361,53 323,49 22...\n",
      "10  11 111,69 377,75 82,72 213,13 373,76 341,04 32...\n",
      "11  12 112,09 664,34 124,40 191,39 380,01 398,26 2...\n",
      "12  13 112,71 450,65 120,32 232,26 400,65 368,04 3...\n",
      "13  14 106,31 420,01 167,41 209,55 389,28 362,79 3...\n",
      "14  15 107,50 410,25 122,56 143,43 358,70 411,34 3...\n",
      "15  16 171,04 424,52 144,87 120,11 333,28 440,97 2...\n",
      "16  17 176,48 289,12 133,56 129,51 240,75 485,03 2...\n",
      "17  18 155,45 250,26 126,84 166,66 233,02 482,21 3...\n",
      "18  19 175,70 184,13 153,61 71,49 270,27 454,36 28...\n",
      "19  20 185,39 215,60 134,40 109,46 368,29 381,29 2...\n",
      "20  21 164,82 203,08 160,85 113,18 270,01 409,68 3...\n",
      "21  22 - 236,78 203,99 122,15 280,86 591,30 336,44...\n",
      "22  23 - 196,88 144,77 97,19 293,99 636,23 292,45 ...\n",
      "23  24 - 123,83 141,01 75,46 273,49 623,82 261,56 ...\n",
      "24  25 - 124,63 168,30 92,83 228,92 599,62 270,30 ...\n",
      "25  26 - 85,78 171,14 78,20 203,17 675,94 303,17 1...\n",
      "26  27 - 151,40 158,01 91,76 210,42 559,00 367,21 ...\n",
      "27  28 - 119,47 367,86 89,44 240,31 528,68 388,90 ...\n",
      "28  29 - 52,51 404,29 102,23 324,73 605,18 376,94 ...\n",
      "29  30 - 92,39 383,26 100,40 207,20 612,29 323,61 ...\n",
      "30  31 - 147,39 125,68 488,04 308,39 202,24 285,47...\n",
      "[['01', '02', '03', '04', '05', '06', '07', '08', '09', '10', '11', '12', '13', '14', '15', '16', '17', '18', '19', '20', '21', '22', '23', '24', '25', '26', '27', '28', '29', '30', '31'], ['105,63', '184,86', '160,58', '121,00', '145,05', '122,14', '118,64', '88,78', '137,08', '139,21', '111,69', '112,09', '112,71', '106,31', '107,50', '171,04', '176,48', '155,45', '175,70', '185,39', '164,82', '-', '-', '-', '-', '-', '-', '-', '-', '-', '-'], ['399,44', '376,87', '304,23', '304,71', '341,62', '367,66', '358,56', '422,30', '438,01', '364,42', '377,75', '664,34', '450,65', '420,01', '410,25', '424,52', '289,12', '250,26', '184,13', '215,60', '203,08', '236,78', '196,88', '123,83', '124,63', '85,78', '151,40', '119,47', '52,51', '92,39', '147,39'], ['101,31', '80,85', '112,02', '185,97', '130,87', '117,93', '105,35', '94,11', '127,38', '96,95', '82,72', '124,40', '120,32', '167,41', '122,56', '144,87', '133,56', '126,84', '153,61', '134,40', '160,85', '203,99', '144,77', '141,01', '168,30', '171,14', '158,01', '367,86', '404,29', '383,26', '125,68'], ['115,19', '193,63', '243,12', '188,84', '134,88', '88,23', '122,84', '174,38', '136,38', '163,19', '213,13', '191,39', '232,26', '209,55', '143,43', '120,11', '129,51', '166,66', '71,49', '109,46', '113,18', '122,15', '97,19', '75,46', '92,83', '78,20', '91,76', '89,44', '102,23', '100,40', '488,04'], ['468,00', '368,70', '300,07', '274,37', '326,48', '375,31', '331,04', '310,17', '325,46', '361,53', '373,76', '380,01', '400,65', '389,28', '358,70', '333,28', '240,75', '233,02', '270,27', '368,29', '270,01', '280,86', '293,99', '273,49', '228,92', '203,17', '210,42', '240,31', '324,73', '207,20', '308,39'], ['356,04', '276,56', '293,31', '313,54', '332,03', '302,67', '272,57', '331,19', '340,08', '323,49', '341,04', '398,26', '368,04', '362,79', '411,34', '440,97', '485,03', '482,21', '454,36', '381,29', '409,68', '591,30', '636,23', '623,82', '599,62', '675,94', '559,00', '528,68', '605,18', '612,29', '202,24'], ['253,32', '187,84', '200,73', '197,79', '255,44', '264,18', '225,12', '268,21', '233,82', '222,47', '320,15', '275,66', '312,95', '361,57', '302,63', '236,63', '214,34', '392,21', '284,00', '296,57', '325,68', '336,44', '292,45', '261,56', '270,30', '303,17', '367,21', '388,90', '376,94', '323,61', '285,47'], ['197,69', '174,44', '140,20', '150,80', '146,44', '158,30', '184,08', '154,99', '138,50', '122,88', '55,17', '126,07', '168,92', '185,01', '196,04', '207,60', '233,35', '173,54', '176,05', '213,04', '258,97', '244,05', '265,56', '212,27', '179,11', '160,75', '209,65', '174,64', '251,85', '317,04', '207,49'], ['153,01', '179,99', '203,75', '198,33', '192,97', '166,49', '157,24', '160,78', '126,86', '99,48', '73,75', '89,55', '96,31', '120,91', '117,55', '134,08', '141,14', '143,49', '141,42', '140,33', '122,05', '135,57', '186,47', '160,04', '142,47', '134,85', '118,77', '137,26', '172,53', '211,87', '-'], ['293,05', '306,93', '269,88', '223,98', '247,14', '214,80', '218,40', '244,18', '242,06', '246,24', '239,98', '233,25', '227,59', '226,30', '194,09', '153,84', '128,57', '135,69', '189,17', '195,80', '185,29', '171,67', '150,72', '166,77', '206,64', '203,44', '213,56', '219,31', '217,08', '169,85', '-'], ['287,56', '263,32', '365,94', '428,90', '385,68', '442,00', '449,82', '480,30', '474,16', '368,16', '287,63', '246,70', '212,40', '283,16', '281,56', '306,79', '259,33', '241,05', '225,59', '216,53', '231,36', '235,39', '239,13', '254,87', '277,19', '240,84', '239,40', '247,73', '255,98', '279,25', '-'], ['209,88', '208,64', '196,05', '190,90', '188,31', '151,06', '210,16', '187,16', '197,34', '196,94', '202,43', '182,88', '193,67', '200,01', '200,84', '180,40', '142,13', '189,07', '168,29', '139,01', '172,03', '183,70', '192,56', '194,06', '258,55', '242,39', '213,95', '222,64', '180,92', '232,51', '-'], ['82,89', '67,04', '80,94', '162,10', '199,53', '237,01', '231,60', '230,35', '198,12', '238,58', '251,39', '231,08', '227,20', '373,21', '235,22', '212,79', '328,57', '236,69', '205,76', '218,28', '212,17', '201,57', '206,27', '341,99', '271,05', '231,80', '221,84', '231,55', '-', '-', '-']]\n"
     ]
    }
   ],
   "source": [
    "import numpy as np\n",
    "\n",
    "for tab in table_list:\n",
    "    tab_pd=pd.DataFrame(tab)#.to_csv#(\"UK_DA.csv\")\n",
    "    print(tab_pd)\n",
    "\n",
    "\n",
    "#print(tab_pd[0][0].split())  \n",
    "all_data = []\n",
    "\n",
    "#print()\n",
    "#print(tab_pd)\n",
    "col = []\n",
    "for i in range(len(tab_pd[0])):\n",
    "    sp = tab_pd[0][i].split()\n",
    "    if i == 0:\n",
    "        for j in range(len(sp)):\n",
    "            col.append([sp[j]])\n",
    "    else:\n",
    "        for j in range(len(sp)):\n",
    "            col[j].append(sp[j])\n",
    "    \n",
    "    #print(tab_pd[0][i].split())\n",
    "    #all_data.append([[tab_pd[0][i].split()][j] for j in range(len(tab_pd[0][i].split()))])\n",
    "col[13].append(\"-\")\n",
    "col[13].append(\"-\")\n",
    "col[13].append(\"-\")\n",
    "col[12].append(\"-\")\n",
    "col[11].append(\"-\")\n",
    "col[10].append(\"-\")\n",
    "col[9].append(\"-\")\n",
    "\n",
    "print(col)\n",
    "    \n",
    "col[13][28] = col[12][28]\n",
    "col[13][29] = col[12][29]\n",
    "col[13][30] = col[8][30]\n",
    "col[12][28] = \"-\"\n",
    "col[12][29] = \"-\"\n",
    "col[12][30] = \"-\"\n",
    "col[11][30] = col[7][30]\n",
    "col[10][30] = \"-\"\n",
    "col[9][30] = col[6][30]\n",
    "col[8][30] = \"-\"\n",
    "col[7][30] = col[5][30]\n",
    "col[6][30] = col[4][30]\n",
    "col[5][30] = \"-\"\n",
    "col[4][30] = col[3][30]               \n",
    "col[3][30] = \"-\"\n",
    "\n",
    "#print(len(table_list[0][0]))\n",
    "\n",
    "nme = {\"Day\":col[0], \"Jan-23\":col[1], \"Dec-22\":col[2], \"Nov-22\":col[3],  \"Oct-22\":col[4], \"Sep-22\":col[5], \"Aug-22\":col[6], \"Jul-22\":col[7], \"Jun-22\":col[8], \"May-22\":col[9], \"Apr-22\":col[10], \"Mar-22\":col[11], \"Feb-22\":col[12], \"Jan-22\":col[13]}\n",
    "\n",
    "\n",
    "NewTable = pd.DataFrame(nme).to_csv(\"BZ_GB_20220101-20221231.csv\")\n",
    "\n",
    "\n"
   ]
  },
  {
   "cell_type": "code",
   "execution_count": null,
   "id": "e3c95aeb",
   "metadata": {},
   "outputs": [],
   "source": []
  }
 ],
 "metadata": {
  "kernelspec": {
   "display_name": "Python 3 (ipykernel)",
   "language": "python",
   "name": "python3"
  },
  "language_info": {
   "codemirror_mode": {
    "name": "ipython",
    "version": 3
   },
   "file_extension": ".py",
   "mimetype": "text/x-python",
   "name": "python",
   "nbconvert_exporter": "python",
   "pygments_lexer": "ipython3",
   "version": "3.9.13"
  }
 },
 "nbformat": 4,
 "nbformat_minor": 5
}
