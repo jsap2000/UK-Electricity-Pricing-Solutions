{
 "cells": [
  {
   "cell_type": "code",
   "execution_count": 6,
   "id": "cc8044ff",
   "metadata": {},
   "outputs": [
    {
     "name": "stdout",
     "output_type": "stream",
     "text": [
      "                           MTU (CET/CEST)  DAPrice\n",
      "0     01.01.2021 00:00 - 01.01.2021 01:00      NaN\n",
      "1     01.01.2021 01:00 - 01.01.2021 02:00      NaN\n",
      "2     01.01.2021 02:00 - 01.01.2021 03:00      NaN\n",
      "3     01.01.2021 03:00 - 01.01.2021 04:00      NaN\n",
      "4     01.01.2021 04:00 - 01.01.2021 05:00      NaN\n",
      "...                                   ...      ...\n",
      "8756  31.12.2021 19:00 - 31.12.2021 20:00   144.07\n",
      "8757  31.12.2021 20:00 - 31.12.2021 21:00   138.08\n",
      "8758  31.12.2021 21:00 - 31.12.2021 22:00   136.67\n",
      "8759  31.12.2021 22:00 - 31.12.2021 23:00   129.62\n",
      "8760  31.12.2021 23:00 - 01.01.2022 00:00   129.58\n",
      "\n",
      "[8761 rows x 2 columns]\n"
     ]
    },
    {
     "data": {
      "text/plain": [
       "64.79"
      ]
     },
     "execution_count": 6,
     "metadata": {},
     "output_type": "execute_result"
    }
   ],
   "source": [
    "import pandas as pd\n",
    "import numpy as np\n",
    "import matplotlib.pyplot as plt\n",
    "\n",
    "BZNO2NSLDA2021 = pd.read_csv(r\"C:\\Users\\anton_zpf58tt\\OneDrive\\Documents\\Glasgow\\Year 4\\ENG4110P Individual Project 4\\Code\\UK-Electricity-Pricing-Solutions\\BZ_NO2NSL_20210101-20211231.csv\")\n",
    "\n",
    "BZNO2NSLDA2021 = BZNO2NSLDA2021.replace('n/e', np.NaN)\n",
    "BZNO2NSLDA2021 = BZNO2NSLDA2021.replace('N/A', np.NaN)\n",
    "\n",
    "BZNO2NSLDA2021 = {'MTU (CET/CEST)': BZNO2NSLDA2021.iloc[:,0],\n",
    "    'DAPrice': BZNO2NSLDA2021.iloc[:,1]}\n",
    "\n",
    "BZNO2NSLDA2021['DAPrice'] = pd.to_numeric(BZNO2NSLDA2021['DAPrice'], errors='coerce')\n",
    "\n",
    "BZNO2NSLDA2021 = pd.DataFrame(BZNO2NSLDA2021)\n",
    "print(BZNO2NSLDA2021)\n",
    "\n",
    "B = BZNO2NSLDA2021.iloc[8760,1]/2\n",
    "B\n",
    "\n",
    "#BZNO2NSLDA2021[8758:, 1] = BZNO2NSLDA2021[8758:, 1].astype('float')\n",
    "\n",
    "#BZNO2NSLDA2021[8756:,1].str.replace(r'\\s+','').astype(float)\n",
    "\n",
    "#s = BZNO2NSLDA2021.select_dtypes(include='object').columns\n",
    "#BZNO2NSLDA2021[s] = BZNO2NSLDA2021[s].astype(\"float\")\n",
    "\n",
    "#BZNO2NSLDA2021[6575:,1] = BZNO2NSLDA2021[6575:,1].astype(float) \n",
    "\n",
    "#BZNO2NSLDA2021 = pd.DataFrame({\"BZN|NO2NSL 2021\": BZNO2NSLDA2021.iloc[0:,1]})\n",
    "#BZNO2NSLDA2021[\"Date\"] = pd.date_range(start=\"1/1/2021\", periods=8761, freq=\"H\")\n",
    "\n",
    "#BZNO2NSLDA2021\n",
    "\n",
    "#NewOrder = [\"Date\", \"BZN|NO2NSL 2021\"]\n",
    "\n",
    "#BZNO2NSLDA2021 = BZNO2NSLDA2021.reindex(columns=NewOrder)\n",
    "#BZNO2NSLDA2021"
   ]
  },
  {
   "cell_type": "code",
   "execution_count": 7,
   "id": "145e48cd",
   "metadata": {},
   "outputs": [
    {
     "data": {
      "text/plain": [
       "135.604"
      ]
     },
     "execution_count": 7,
     "metadata": {},
     "output_type": "execute_result"
    }
   ],
   "source": [
    "# Python code to find average of each consecutive segment\n",
    "  \n",
    "# Importing\n",
    "import statistics\n",
    "from itertools import islice\n",
    "\n",
    "# 01-Oct-21 00:00-01:00 is in column 6552\n",
    "statistics.mean(BZNO2NSLDA2021.iloc[8756:8761,1])\n",
    "\n",
    "# 01-Oct-21 23:00-00:00 is in column 6575\n",
    "#print(BZNO2NSLDA2021.iloc[6575,0])\n",
    "\n",
    "#print(BZNO2NSLDA2021.iloc[6552:6576,1])\n",
    "\n",
    "#average01Oct = BZNO2NSLDA2021.iloc[6552:6576,1].mean()\n",
    "\n",
    "# List initialisation\n",
    "#Input = BZNO2NSLDA2021[\"Day-ahead Price [EUR/MWh]\"]\n",
    "  \n",
    "# Finding average of each consecutive segment\n",
    "#zip_list = zip(*(islice(Input, i, None) for i in range(5)))\n",
    "#Output = list(map(mean, zip_list))\n",
    "  \n",
    "# printing output\n",
    "#print(Output)"
   ]
  },
  {
   "cell_type": "markdown",
   "id": "bdeff4e3",
   "metadata": {},
   "source": [
    "### "
   ]
  },
  {
   "cell_type": "code",
   "execution_count": null,
   "id": "f2e13257",
   "metadata": {},
   "outputs": [],
   "source": []
  }
 ],
 "metadata": {
  "kernelspec": {
   "display_name": "Python 3 (ipykernel)",
   "language": "python",
   "name": "python3"
  },
  "language_info": {
   "codemirror_mode": {
    "name": "ipython",
    "version": 3
   },
   "file_extension": ".py",
   "mimetype": "text/x-python",
   "name": "python",
   "nbconvert_exporter": "python",
   "pygments_lexer": "ipython3",
   "version": "3.9.13"
  }
 },
 "nbformat": 4,
 "nbformat_minor": 5
}
