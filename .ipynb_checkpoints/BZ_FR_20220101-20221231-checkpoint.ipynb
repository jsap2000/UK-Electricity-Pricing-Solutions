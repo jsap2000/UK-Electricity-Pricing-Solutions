{
 "cells": [
  {
   "cell_type": "code",
   "execution_count": 1,
   "id": "c3b6226d",
   "metadata": {},
   "outputs": [
    {
     "name": "stderr",
     "output_type": "stream",
     "text": [
      "WARNING: pip is being invoked by an old script wrapper. This will fail in a future version of pip.\n",
      "Please see https://github.com/pypa/pip/issues/5599 for advice on fixing the underlying issue.\n",
      "To avoid this problem you can invoke Python with '-m pip' instead of running pip directly.\n"
     ]
    },
    {
     "data": {
      "text/html": [
       "<pre style=\"white-space:pre;overflow-x:auto;line-height:normal;font-family:Menlo,'DejaVu Sans Mono',consolas,'Courier New',monospace\">Requirement already satisfied: BeautifulSoup4 in c:\\users\\anton_zpf58tt\\anaconda3\\lib\\site-packages (4.11.1)\n",
       "</pre>\n"
      ],
      "text/plain": [
       "Requirement already satisfied: BeautifulSoup4 in c:\\users\\anton_zpf58tt\\anaconda3\\lib\\site-packages (4.11.1)\n"
      ]
     },
     "metadata": {},
     "output_type": "display_data"
    },
    {
     "data": {
      "text/html": [
       "<pre style=\"white-space:pre;overflow-x:auto;line-height:normal;font-family:Menlo,'DejaVu Sans Mono',consolas,'Courier New',monospace\">Requirement already satisfied: soupsieve&gt;1.2 in c:\\users\\anton_zpf58tt\\anaconda3\\lib\\site-packages (from BeautifulSoup4) (2.3.1)\n",
       "</pre>\n"
      ],
      "text/plain": [
       "Requirement already satisfied: soupsieve>1.2 in c:\\users\\anton_zpf58tt\\anaconda3\\lib\\site-packages (from BeautifulSoup4) (2.3.1)\n"
      ]
     },
     "metadata": {},
     "output_type": "display_data"
    },
    {
     "name": "stderr",
     "output_type": "stream",
     "text": [
      "WARNING: pip is being invoked by an old script wrapper. This will fail in a future version of pip.\n",
      "Please see https://github.com/pypa/pip/issues/5599 for advice on fixing the underlying issue.\n",
      "To avoid this problem you can invoke Python with '-m pip' instead of running pip directly.\n"
     ]
    },
    {
     "data": {
      "text/html": [
       "<pre style=\"white-space:pre;overflow-x:auto;line-height:normal;font-family:Menlo,'DejaVu Sans Mono',consolas,'Courier New',monospace\">Requirement already satisfied: html5lib in c:\\users\\anton_zpf58tt\\anaconda3\\lib\\site-packages (1.1)\n",
       "</pre>\n"
      ],
      "text/plain": [
       "Requirement already satisfied: html5lib in c:\\users\\anton_zpf58tt\\anaconda3\\lib\\site-packages (1.1)\n"
      ]
     },
     "metadata": {},
     "output_type": "display_data"
    },
    {
     "data": {
      "text/html": [
       "<pre style=\"white-space:pre;overflow-x:auto;line-height:normal;font-family:Menlo,'DejaVu Sans Mono',consolas,'Courier New',monospace\">Requirement already satisfied: webencodings in c:\\users\\anton_zpf58tt\\anaconda3\\lib\\site-packages (from html5lib) (0.5.1)\n",
       "</pre>\n"
      ],
      "text/plain": [
       "Requirement already satisfied: webencodings in c:\\users\\anton_zpf58tt\\anaconda3\\lib\\site-packages (from html5lib) (0.5.1)\n"
      ]
     },
     "metadata": {},
     "output_type": "display_data"
    },
    {
     "data": {
      "text/html": [
       "<pre style=\"white-space:pre;overflow-x:auto;line-height:normal;font-family:Menlo,'DejaVu Sans Mono',consolas,'Courier New',monospace\">Requirement already satisfied: six&gt;=1.9 in c:\\users\\anton_zpf58tt\\anaconda3\\lib\\site-packages (from html5lib) (1.16.0)\n",
       "</pre>\n"
      ],
      "text/plain": [
       "Requirement already satisfied: six>=1.9 in c:\\users\\anton_zpf58tt\\anaconda3\\lib\\site-packages (from html5lib) (1.16.0)\n"
      ]
     },
     "metadata": {},
     "output_type": "display_data"
    },
    {
     "name": "stderr",
     "output_type": "stream",
     "text": [
      "WARNING: pip is being invoked by an old script wrapper. This will fail in a future version of pip.\n",
      "Please see https://github.com/pypa/pip/issues/5599 for advice on fixing the underlying issue.\n",
      "To avoid this problem you can invoke Python with '-m pip' instead of running pip directly.\n"
     ]
    },
    {
     "data": {
      "text/html": [
       "<pre style=\"white-space:pre;overflow-x:auto;line-height:normal;font-family:Menlo,'DejaVu Sans Mono',consolas,'Courier New',monospace\">Requirement already satisfied: selenium in c:\\users\\anton_zpf58tt\\anaconda3\\lib\\site-packages (4.7.2)\n",
       "</pre>\n"
      ],
      "text/plain": [
       "Requirement already satisfied: selenium in c:\\users\\anton_zpf58tt\\anaconda3\\lib\\site-packages (4.7.2)\n"
      ]
     },
     "metadata": {},
     "output_type": "display_data"
    },
    {
     "data": {
      "text/html": [
       "<pre style=\"white-space:pre;overflow-x:auto;line-height:normal;font-family:Menlo,'DejaVu Sans Mono',consolas,'Courier New',monospace\">Requirement already satisfied: urllib3[socks]~=1.26 in c:\\users\\anton_zpf58tt\\anaconda3\\lib\\site-packages (from selenium) (1.26.11)\n",
       "</pre>\n"
      ],
      "text/plain": [
       "Requirement already satisfied: urllib3[socks]~=1.26 in c:\\users\\anton_zpf58tt\\anaconda3\\lib\\site-packages (from selenium) (1.26.11)\n"
      ]
     },
     "metadata": {},
     "output_type": "display_data"
    },
    {
     "data": {
      "text/html": [
       "<pre style=\"white-space:pre;overflow-x:auto;line-height:normal;font-family:Menlo,'DejaVu Sans Mono',consolas,'Courier New',monospace\">Requirement already satisfied: trio~=0.17 in c:\\users\\anton_zpf58tt\\anaconda3\\lib\\site-packages (from selenium) (0.22.0)\n",
       "</pre>\n"
      ],
      "text/plain": [
       "Requirement already satisfied: trio~=0.17 in c:\\users\\anton_zpf58tt\\anaconda3\\lib\\site-packages (from selenium) (0.22.0)\n"
      ]
     },
     "metadata": {},
     "output_type": "display_data"
    },
    {
     "data": {
      "text/html": [
       "<pre style=\"white-space:pre;overflow-x:auto;line-height:normal;font-family:Menlo,'DejaVu Sans Mono',consolas,'Courier New',monospace\">Requirement already satisfied: certifi&gt;=2021.10.8 in c:\\users\\anton_zpf58tt\\anaconda3\\lib\\site-packages (from selenium) (2022.9.14)\n",
       "</pre>\n"
      ],
      "text/plain": [
       "Requirement already satisfied: certifi>=2021.10.8 in c:\\users\\anton_zpf58tt\\anaconda3\\lib\\site-packages (from selenium) (2022.9.14)\n"
      ]
     },
     "metadata": {},
     "output_type": "display_data"
    },
    {
     "data": {
      "text/html": [
       "<pre style=\"white-space:pre;overflow-x:auto;line-height:normal;font-family:Menlo,'DejaVu Sans Mono',consolas,'Courier New',monospace\">Requirement already satisfied: trio-websocket~=0.9 in c:\\users\\anton_zpf58tt\\anaconda3\\lib\\site-packages (from selenium) (0.9.2)\n",
       "</pre>\n"
      ],
      "text/plain": [
       "Requirement already satisfied: trio-websocket~=0.9 in c:\\users\\anton_zpf58tt\\anaconda3\\lib\\site-packages (from selenium) (0.9.2)\n"
      ]
     },
     "metadata": {},
     "output_type": "display_data"
    },
    {
     "data": {
      "text/html": [
       "<pre style=\"white-space:pre;overflow-x:auto;line-height:normal;font-family:Menlo,'DejaVu Sans Mono',consolas,'Courier New',monospace\">Requirement already satisfied: exceptiongroup&gt;=1.0.0rc9 in c:\\users\\anton_zpf58tt\\anaconda3\\lib\\site-packages (from trio~=0.17-&gt;selenium) (1.1.0)\n",
       "</pre>\n"
      ],
      "text/plain": [
       "Requirement already satisfied: exceptiongroup>=1.0.0rc9 in c:\\users\\anton_zpf58tt\\anaconda3\\lib\\site-packages (from trio~=0.17->selenium) (1.1.0)\n"
      ]
     },
     "metadata": {},
     "output_type": "display_data"
    },
    {
     "data": {
      "text/html": [
       "<pre style=\"white-space:pre;overflow-x:auto;line-height:normal;font-family:Menlo,'DejaVu Sans Mono',consolas,'Courier New',monospace\">Requirement already satisfied: sniffio in c:\\users\\anton_zpf58tt\\anaconda3\\lib\\site-packages (from trio~=0.17-&gt;selenium) (1.2.0)\n",
       "</pre>\n"
      ],
      "text/plain": [
       "Requirement already satisfied: sniffio in c:\\users\\anton_zpf58tt\\anaconda3\\lib\\site-packages (from trio~=0.17->selenium) (1.2.0)\n"
      ]
     },
     "metadata": {},
     "output_type": "display_data"
    },
    {
     "data": {
      "text/html": [
       "<pre style=\"white-space:pre;overflow-x:auto;line-height:normal;font-family:Menlo,'DejaVu Sans Mono',consolas,'Courier New',monospace\">Requirement already satisfied: idna in c:\\users\\anton_zpf58tt\\anaconda3\\lib\\site-packages (from trio~=0.17-&gt;selenium) (3.3)\n",
       "</pre>\n"
      ],
      "text/plain": [
       "Requirement already satisfied: idna in c:\\users\\anton_zpf58tt\\anaconda3\\lib\\site-packages (from trio~=0.17->selenium) (3.3)\n"
      ]
     },
     "metadata": {},
     "output_type": "display_data"
    },
    {
     "data": {
      "text/html": [
       "<pre style=\"white-space:pre;overflow-x:auto;line-height:normal;font-family:Menlo,'DejaVu Sans Mono',consolas,'Courier New',monospace\">Requirement already satisfied: cffi&gt;=1.14 in c:\\users\\anton_zpf58tt\\anaconda3\\lib\\site-packages (from trio~=0.17-&gt;selenium) (1.15.1)\n",
       "</pre>\n"
      ],
      "text/plain": [
       "Requirement already satisfied: cffi>=1.14 in c:\\users\\anton_zpf58tt\\anaconda3\\lib\\site-packages (from trio~=0.17->selenium) (1.15.1)\n"
      ]
     },
     "metadata": {},
     "output_type": "display_data"
    },
    {
     "data": {
      "text/html": [
       "<pre style=\"white-space:pre;overflow-x:auto;line-height:normal;font-family:Menlo,'DejaVu Sans Mono',consolas,'Courier New',monospace\">Requirement already satisfied: attrs&gt;=19.2.0 in c:\\users\\anton_zpf58tt\\anaconda3\\lib\\site-packages (from trio~=0.17-&gt;selenium) (21.4.0)\n",
       "</pre>\n"
      ],
      "text/plain": [
       "Requirement already satisfied: attrs>=19.2.0 in c:\\users\\anton_zpf58tt\\anaconda3\\lib\\site-packages (from trio~=0.17->selenium) (21.4.0)\n"
      ]
     },
     "metadata": {},
     "output_type": "display_data"
    },
    {
     "data": {
      "text/html": [
       "<pre style=\"white-space:pre;overflow-x:auto;line-height:normal;font-family:Menlo,'DejaVu Sans Mono',consolas,'Courier New',monospace\">Requirement already satisfied: async-generator&gt;=1.9 in c:\\users\\anton_zpf58tt\\anaconda3\\lib\\site-packages (from trio~=0.17-&gt;selenium) (1.10)\n",
       "</pre>\n"
      ],
      "text/plain": [
       "Requirement already satisfied: async-generator>=1.9 in c:\\users\\anton_zpf58tt\\anaconda3\\lib\\site-packages (from trio~=0.17->selenium) (1.10)\n"
      ]
     },
     "metadata": {},
     "output_type": "display_data"
    },
    {
     "data": {
      "text/html": [
       "<pre style=\"white-space:pre;overflow-x:auto;line-height:normal;font-family:Menlo,'DejaVu Sans Mono',consolas,'Courier New',monospace\">Requirement already satisfied: sortedcontainers in c:\\users\\anton_zpf58tt\\anaconda3\\lib\\site-packages (from trio~=0.17-&gt;selenium) (2.4.0)\n",
       "</pre>\n"
      ],
      "text/plain": [
       "Requirement already satisfied: sortedcontainers in c:\\users\\anton_zpf58tt\\anaconda3\\lib\\site-packages (from trio~=0.17->selenium) (2.4.0)\n"
      ]
     },
     "metadata": {},
     "output_type": "display_data"
    },
    {
     "data": {
      "text/html": [
       "<pre style=\"white-space:pre;overflow-x:auto;line-height:normal;font-family:Menlo,'DejaVu Sans Mono',consolas,'Courier New',monospace\">Requirement already satisfied: outcome in c:\\users\\anton_zpf58tt\\anaconda3\\lib\\site-packages (from trio~=0.17-&gt;selenium) (1.2.0)\n",
       "</pre>\n"
      ],
      "text/plain": [
       "Requirement already satisfied: outcome in c:\\users\\anton_zpf58tt\\anaconda3\\lib\\site-packages (from trio~=0.17->selenium) (1.2.0)\n"
      ]
     },
     "metadata": {},
     "output_type": "display_data"
    },
    {
     "data": {
      "text/html": [
       "<pre style=\"white-space:pre;overflow-x:auto;line-height:normal;font-family:Menlo,'DejaVu Sans Mono',consolas,'Courier New',monospace\">Requirement already satisfied: wsproto&gt;=0.14 in c:\\users\\anton_zpf58tt\\anaconda3\\lib\\site-packages (from trio-websocket~=0.9-&gt;selenium) (1.2.0)\n",
       "</pre>\n"
      ],
      "text/plain": [
       "Requirement already satisfied: wsproto>=0.14 in c:\\users\\anton_zpf58tt\\anaconda3\\lib\\site-packages (from trio-websocket~=0.9->selenium) (1.2.0)\n"
      ]
     },
     "metadata": {},
     "output_type": "display_data"
    },
    {
     "data": {
      "text/html": [
       "<pre style=\"white-space:pre;overflow-x:auto;line-height:normal;font-family:Menlo,'DejaVu Sans Mono',consolas,'Courier New',monospace\">Requirement already satisfied: PySocks!=1.5.7,&lt;2.0,&gt;=1.5.6 in c:\\users\\anton_zpf58tt\\anaconda3\\lib\\site-packages (from urllib3[socks]~=1.26-&gt;selenium) (1.7.1)\n",
       "</pre>\n"
      ],
      "text/plain": [
       "Requirement already satisfied: PySocks!=1.5.7,<2.0,>=1.5.6 in c:\\users\\anton_zpf58tt\\anaconda3\\lib\\site-packages (from urllib3[socks]~=1.26->selenium) (1.7.1)\n"
      ]
     },
     "metadata": {},
     "output_type": "display_data"
    },
    {
     "data": {
      "text/html": [
       "<pre style=\"white-space:pre;overflow-x:auto;line-height:normal;font-family:Menlo,'DejaVu Sans Mono',consolas,'Courier New',monospace\">Requirement already satisfied: pycparser in c:\\users\\anton_zpf58tt\\anaconda3\\lib\\site-packages (from cffi&gt;=1.14-&gt;trio~=0.17-&gt;selenium) (2.21)\n",
       "</pre>\n"
      ],
      "text/plain": [
       "Requirement already satisfied: pycparser in c:\\users\\anton_zpf58tt\\anaconda3\\lib\\site-packages (from cffi>=1.14->trio~=0.17->selenium) (2.21)\n"
      ]
     },
     "metadata": {},
     "output_type": "display_data"
    },
    {
     "data": {
      "text/html": [
       "<pre style=\"white-space:pre;overflow-x:auto;line-height:normal;font-family:Menlo,'DejaVu Sans Mono',consolas,'Courier New',monospace\">Requirement already satisfied: h11&lt;1,&gt;=0.9.0 in c:\\users\\anton_zpf58tt\\anaconda3\\lib\\site-packages (from wsproto&gt;=0.14-&gt;trio-websocket~=0.9-&gt;selenium) (0.14.0)\n",
       "</pre>\n"
      ],
      "text/plain": [
       "Requirement already satisfied: h11<1,>=0.9.0 in c:\\users\\anton_zpf58tt\\anaconda3\\lib\\site-packages (from wsproto>=0.14->trio-websocket~=0.9->selenium) (0.14.0)\n"
      ]
     },
     "metadata": {},
     "output_type": "display_data"
    }
   ],
   "source": [
    "import pip\n",
    "import pandas as pd\n",
    "\n",
    "if int(pip.__version__.split('.')[0])>9:\n",
    "        from pip._internal import main\n",
    "else:\n",
    "        from pip import main\n",
    "def install(package):\n",
    "        main(['install', package])\n",
    "        \n",
    "install('BeautifulSoup4')\n",
    "install('html5lib')\n",
    "install('selenium')"
   ]
  },
  {
   "cell_type": "code",
   "execution_count": 11,
   "id": "eb6bd4a4",
   "metadata": {},
   "outputs": [
    {
     "name": "stdout",
     "output_type": "stream",
     "text": [
      "01 14,91 390,99 90,42 123,46 635,63 454,78 343,16 216,85 194,74 317,50\n",
      "02 124,58 384,86 117,11 196,27 516,69 471,64 265,62 193,49 218,95 302,92\n",
      "03 146,05 307,83 121,39 287,71 416,62 508,48 215,88 198,71 218,21 292,65\n",
      "04 97,74 307,19 186,16 296,60 322,73 482,37 369,46 174,01 234,59 551,43\n",
      "05 126,68 373,20 141,10 221,83 435,82 411,33 371,60 153,65 234,28 308,30\n",
      "06 121,48 418,44 107,69 255,95 523,99 282,40 388,69 153,33 225,36 274,35\n",
      "07 85,46 429,58 124,89 271,94 468,96 215,59 381,79 188,10 201,43 219,54\n",
      "08 68,20 417,36 113,98 215,21 453,38 359,18 410,95 191,83 175,00 248,11\n",
      "09 126,41 448,18 138,90 168,46 347,52 347,71 332,92 185,19 219,25 241,63\n",
      "10 128,08 370,20 157,32 208,07 404,32 336,05 224,43 194,05 207,13 217,91\n",
      "11 87,90 333,04 138,47 269,77 390,94 376,23 384,10 182,38 191,42 229,05\n",
      "12 81,17 465,49 153,22 287,46 416,88 444,91 432,43 148,63 196,25 239,96\n",
      "13 78,81 463,46 148,26 259,90 444,21 396,94 446,96 203,38 203,91 238,08\n",
      "14 55,93 451,45 195,20 260,47 461,38 365,85 386,72 211,44 183,59 227,92\n",
      "15 34,88 404,20 184,31 159,17 436,56 424,64 397,49 233,26 147,72 199,74\n",
      "16 134,70 410,65 175,17 125,32 399,00 500,82 320,30 272,85 218,90 152,01\n",
      "17 178,67 281,63 159,19 174,30 225,86 552,85 239,88 303,54 229,81 112,23\n",
      "18 157,11 230,52 239,34 191,12 199,95 553,62 486,00 280,15 213,33 123,55\n",
      "19 184,69 200,28 211,79 159,01 315,65 509,84 521,30 165,43 213,88 217,80\n",
      "20 186,75 200,96 211,08 142,56 377,66 463,23 589,22 303,95 207,39 206,02\n",
      "21 155,73 217,47 244,99 158,13 381,03 398,20 555,36 354,03 177,81 202,56\n",
      "22 167,59 194,70 209,91 129,81 408,96 571,34 494,03 383,14 166,19 200,52\n",
      "23 204,93 171,26 186,85 87,37 399,15 611,85 348,32 352,56 191,04 172,36\n",
      "24 204,50 113,11 237,15 87,51 353,21 645,54 334,13 302,60 183,18 149,01\n",
      "25 186,30 107,97 261,02 110,06 272,84 630,62 373,05 258,43 191,13 222,83\n",
      "26 171,32 74,76 240,18 110,87 277,29 706,32 532,25 249,07 166,02 243,57\n",
      "27 171,10 122,79 172,89 121,67 350,21 626,79 529,62 334,25 162,85 222,02\n",
      "28 146,71 51,54 318,85 108,53 392,86 488,78 534,68 366,40 151,16 230,20\n",
      "29 - 31,53 373,24 98,56 464,85 733,64 499,49 335,24 158,82 228,17\n",
      "30 - 18,48 396,44 116,62 346,97 743,84 397,53 362,06 225,99 200,93\n",
      "31 - 4,38 144,24 651,77 319,51 211,04\n"
     ]
    },
    {
     "data": {
      "text/html": [
       "<div>\n",
       "<style scoped>\n",
       "    .dataframe tbody tr th:only-of-type {\n",
       "        vertical-align: middle;\n",
       "    }\n",
       "\n",
       "    .dataframe tbody tr th {\n",
       "        vertical-align: top;\n",
       "    }\n",
       "\n",
       "    .dataframe thead th {\n",
       "        text-align: right;\n",
       "    }\n",
       "</style>\n",
       "<table border=\"1\" class=\"dataframe\">\n",
       "  <thead>\n",
       "    <tr style=\"text-align: right;\">\n",
       "      <th></th>\n",
       "      <th>0</th>\n",
       "      <th>1</th>\n",
       "      <th>2</th>\n",
       "      <th>3</th>\n",
       "      <th>4</th>\n",
       "      <th>5</th>\n",
       "      <th>6</th>\n",
       "      <th>7</th>\n",
       "      <th>8</th>\n",
       "      <th>9</th>\n",
       "      <th>...</th>\n",
       "      <th>21</th>\n",
       "      <th>22</th>\n",
       "      <th>23</th>\n",
       "      <th>24</th>\n",
       "      <th>25</th>\n",
       "      <th>26</th>\n",
       "      <th>27</th>\n",
       "      <th>28</th>\n",
       "      <th>29</th>\n",
       "      <th>30</th>\n",
       "    </tr>\n",
       "  </thead>\n",
       "  <tbody>\n",
       "    <tr>\n",
       "      <th>0</th>\n",
       "      <td>01 14,91 390,99 90,42 123,46 635,63 454,78 343...</td>\n",
       "      <td>02 124,58 384,86 117,11 196,27 516,69 471,64 2...</td>\n",
       "      <td>03 146,05 307,83 121,39 287,71 416,62 508,48 2...</td>\n",
       "      <td>04 97,74 307,19 186,16 296,60 322,73 482,37 36...</td>\n",
       "      <td>05 126,68 373,20 141,10 221,83 435,82 411,33 3...</td>\n",
       "      <td>06 121,48 418,44 107,69 255,95 523,99 282,40 3...</td>\n",
       "      <td>07 85,46 429,58 124,89 271,94 468,96 215,59 38...</td>\n",
       "      <td>08 68,20 417,36 113,98 215,21 453,38 359,18 41...</td>\n",
       "      <td>09 126,41 448,18 138,90 168,46 347,52 347,71 3...</td>\n",
       "      <td>10 128,08 370,20 157,32 208,07 404,32 336,05 2...</td>\n",
       "      <td>...</td>\n",
       "      <td>22 167,59 194,70 209,91 129,81 408,96 571,34 4...</td>\n",
       "      <td>23 204,93 171,26 186,85 87,37 399,15 611,85 34...</td>\n",
       "      <td>24 204,50 113,11 237,15 87,51 353,21 645,54 33...</td>\n",
       "      <td>25 186,30 107,97 261,02 110,06 272,84 630,62 3...</td>\n",
       "      <td>26 171,32 74,76 240,18 110,87 277,29 706,32 53...</td>\n",
       "      <td>27 171,10 122,79 172,89 121,67 350,21 626,79 5...</td>\n",
       "      <td>28 146,71 51,54 318,85 108,53 392,86 488,78 53...</td>\n",
       "      <td>29 - 31,53 373,24 98,56 464,85 733,64 499,49 3...</td>\n",
       "      <td>30 - 18,48 396,44 116,62 346,97 743,84 397,53 ...</td>\n",
       "      <td>31 - 4,38 144,24 651,77 319,51 211,04</td>\n",
       "    </tr>\n",
       "  </tbody>\n",
       "</table>\n",
       "<p>1 rows × 31 columns</p>\n",
       "</div>"
      ],
      "text/plain": [
       "                                                  0   \\\n",
       "0  01 14,91 390,99 90,42 123,46 635,63 454,78 343...   \n",
       "\n",
       "                                                  1   \\\n",
       "0  02 124,58 384,86 117,11 196,27 516,69 471,64 2...   \n",
       "\n",
       "                                                  2   \\\n",
       "0  03 146,05 307,83 121,39 287,71 416,62 508,48 2...   \n",
       "\n",
       "                                                  3   \\\n",
       "0  04 97,74 307,19 186,16 296,60 322,73 482,37 36...   \n",
       "\n",
       "                                                  4   \\\n",
       "0  05 126,68 373,20 141,10 221,83 435,82 411,33 3...   \n",
       "\n",
       "                                                  5   \\\n",
       "0  06 121,48 418,44 107,69 255,95 523,99 282,40 3...   \n",
       "\n",
       "                                                  6   \\\n",
       "0  07 85,46 429,58 124,89 271,94 468,96 215,59 38...   \n",
       "\n",
       "                                                  7   \\\n",
       "0  08 68,20 417,36 113,98 215,21 453,38 359,18 41...   \n",
       "\n",
       "                                                  8   \\\n",
       "0  09 126,41 448,18 138,90 168,46 347,52 347,71 3...   \n",
       "\n",
       "                                                  9   ...  \\\n",
       "0  10 128,08 370,20 157,32 208,07 404,32 336,05 2...  ...   \n",
       "\n",
       "                                                  21  \\\n",
       "0  22 167,59 194,70 209,91 129,81 408,96 571,34 4...   \n",
       "\n",
       "                                                  22  \\\n",
       "0  23 204,93 171,26 186,85 87,37 399,15 611,85 34...   \n",
       "\n",
       "                                                  23  \\\n",
       "0  24 204,50 113,11 237,15 87,51 353,21 645,54 33...   \n",
       "\n",
       "                                                  24  \\\n",
       "0  25 186,30 107,97 261,02 110,06 272,84 630,62 3...   \n",
       "\n",
       "                                                  25  \\\n",
       "0  26 171,32 74,76 240,18 110,87 277,29 706,32 53...   \n",
       "\n",
       "                                                  26  \\\n",
       "0  27 171,10 122,79 172,89 121,67 350,21 626,79 5...   \n",
       "\n",
       "                                                  27  \\\n",
       "0  28 146,71 51,54 318,85 108,53 392,86 488,78 53...   \n",
       "\n",
       "                                                  28  \\\n",
       "0  29 - 31,53 373,24 98,56 464,85 733,64 499,49 3...   \n",
       "\n",
       "                                                  29  \\\n",
       "0  30 - 18,48 396,44 116,62 346,97 743,84 397,53 ...   \n",
       "\n",
       "                                      30  \n",
       "0  31 - 4,38 144,24 651,77 319,51 211,04  \n",
       "\n",
       "[1 rows x 31 columns]"
      ]
     },
     "execution_count": 11,
     "metadata": {},
     "output_type": "execute_result"
    }
   ],
   "source": [
    "import pandas as pd\n",
    "from selenium.webdriver.common.by import By\n",
    "from selenium.webdriver.support.ui import WebDriverWait\n",
    "from selenium.webdriver.support import expected_conditions as EC\n",
    "from selenium import webdriver\n",
    "\n",
    "driver = webdriver.Edge()\n",
    "\n",
    "url = str(\"https://www.nordpoolgroup.com/en/Market-data1/Dayahead/Area-Prices/ALL1/Hourly1/?dd=FR&view=table\")\n",
    "driver.get(url)\n",
    "\n",
    "tables = WebDriverWait(driver,20).until(EC.presence_of_all_elements_located((By.XPATH, \"/html/body/div[2]/div/div/div/div[3]/div/div[3]/div[2]/div[1]/div[2]/div/table[1]\")))\n",
    "\n",
    "table_list = []\n",
    "\n",
    "for table in tables:\n",
    "    rows=[]\n",
    "    for row in table.find_elements(By.XPATH, \"./tbody/tr\"):\n",
    "        print(row.text)\n",
    "        rows.append(row.text)\n",
    "    table_list.append(rows)\n",
    "\n",
    "df = pd.DataFrame(table_list)\n",
    "df"
   ]
  },
  {
   "cell_type": "code",
   "execution_count": 10,
   "id": "4b9697d1",
   "metadata": {
    "scrolled": true
   },
   "outputs": [
    {
     "name": "stdout",
     "output_type": "stream",
     "text": [
      "                                                    0\n",
      "0   01 14,91 390,99 90,42 123,46 635,63 454,78 343...\n",
      "1   02 124,58 384,86 117,11 196,27 516,69 471,64 2...\n",
      "2   03 146,05 307,83 121,39 287,71 416,62 508,48 2...\n",
      "3   04 97,74 307,19 186,16 296,60 322,73 482,37 36...\n",
      "4   05 126,68 373,20 141,10 221,83 435,82 411,33 3...\n",
      "5   06 121,48 418,44 107,69 255,95 523,99 282,40 3...\n",
      "6   07 85,46 429,58 124,89 271,94 468,96 215,59 38...\n",
      "7   08 68,20 417,36 113,98 215,21 453,38 359,18 41...\n",
      "8   09 126,41 448,18 138,90 168,46 347,52 347,71 3...\n",
      "9   10 128,08 370,20 157,32 208,07 404,32 336,05 2...\n",
      "10  11 87,90 333,04 138,47 269,77 390,94 376,23 38...\n",
      "11  12 81,17 465,49 153,22 287,46 416,88 444,91 43...\n",
      "12  13 78,81 463,46 148,26 259,90 444,21 396,94 44...\n",
      "13  14 55,93 451,45 195,20 260,47 461,38 365,85 38...\n",
      "14  15 34,88 404,20 184,31 159,17 436,56 424,64 39...\n",
      "15  16 134,70 410,65 175,17 125,32 399,00 500,82 3...\n",
      "16  17 178,67 281,63 159,19 174,30 225,86 552,85 2...\n",
      "17  18 157,11 230,52 239,34 191,12 199,95 553,62 4...\n",
      "18  19 184,69 200,28 211,79 159,01 315,65 509,84 5...\n",
      "19  20 186,75 200,96 211,08 142,56 377,66 463,23 5...\n",
      "20  21 155,73 217,47 244,99 158,13 381,03 398,20 5...\n",
      "21  22 167,59 194,70 209,91 129,81 408,96 571,34 4...\n",
      "22  23 204,93 171,26 186,85 87,37 399,15 611,85 34...\n",
      "23  24 204,50 113,11 237,15 87,51 353,21 645,54 33...\n",
      "24  25 186,30 107,97 261,02 110,06 272,84 630,62 3...\n",
      "25  26 171,32 74,76 240,18 110,87 277,29 706,32 53...\n",
      "26  27 171,10 122,79 172,89 121,67 350,21 626,79 5...\n",
      "27  28 146,71 51,54 318,85 108,53 392,86 488,78 53...\n",
      "28  29 - 31,53 373,24 98,56 464,85 733,64 499,49 3...\n",
      "29  30 - 18,48 396,44 116,62 346,97 743,84 397,53 ...\n",
      "30              31 - 4,38 144,24 651,77 319,51 211,04\n",
      "[['01', '02', '03', '04', '05', '06', '07', '08', '09', '10', '11', '12', '13', '14', '15', '16', '17', '18', '19', '20', '21', '22', '23', '24', '25', '26', '27', '28', '29', '30', '31'], ['14,91', '124,58', '146,05', '97,74', '126,68', '121,48', '85,46', '68,20', '126,41', '128,08', '87,90', '81,17', '78,81', '55,93', '34,88', '134,70', '178,67', '157,11', '184,69', '186,75', '155,73', '167,59', '204,93', '204,50', '186,30', '171,32', '171,10', '146,71', '-', '-', '-'], ['390,99', '384,86', '307,83', '307,19', '373,20', '418,44', '429,58', '417,36', '448,18', '370,20', '333,04', '465,49', '463,46', '451,45', '404,20', '410,65', '281,63', '230,52', '200,28', '200,96', '217,47', '194,70', '171,26', '113,11', '107,97', '74,76', '122,79', '51,54', '31,53', '18,48', '4,38'], ['90,42', '117,11', '121,39', '186,16', '141,10', '107,69', '124,89', '113,98', '138,90', '157,32', '138,47', '153,22', '148,26', '195,20', '184,31', '175,17', '159,19', '239,34', '211,79', '211,08', '244,99', '209,91', '186,85', '237,15', '261,02', '240,18', '172,89', '318,85', '373,24', '396,44', '144,24'], ['123,46', '196,27', '287,71', '296,60', '221,83', '255,95', '271,94', '215,21', '168,46', '208,07', '269,77', '287,46', '259,90', '260,47', '159,17', '125,32', '174,30', '191,12', '159,01', '142,56', '158,13', '129,81', '87,37', '87,51', '110,06', '110,87', '121,67', '108,53', '98,56', '116,62', '651,77'], ['635,63', '516,69', '416,62', '322,73', '435,82', '523,99', '468,96', '453,38', '347,52', '404,32', '390,94', '416,88', '444,21', '461,38', '436,56', '399,00', '225,86', '199,95', '315,65', '377,66', '381,03', '408,96', '399,15', '353,21', '272,84', '277,29', '350,21', '392,86', '464,85', '346,97', '319,51'], ['454,78', '471,64', '508,48', '482,37', '411,33', '282,40', '215,59', '359,18', '347,71', '336,05', '376,23', '444,91', '396,94', '365,85', '424,64', '500,82', '552,85', '553,62', '509,84', '463,23', '398,20', '571,34', '611,85', '645,54', '630,62', '706,32', '626,79', '488,78', '733,64', '743,84', '211,04'], ['343,16', '265,62', '215,88', '369,46', '371,60', '388,69', '381,79', '410,95', '332,92', '224,43', '384,10', '432,43', '446,96', '386,72', '397,49', '320,30', '239,88', '486,00', '521,30', '589,22', '555,36', '494,03', '348,32', '334,13', '373,05', '532,25', '529,62', '534,68', '499,49', '397,53', '-'], ['216,85', '193,49', '198,71', '174,01', '153,65', '153,33', '188,10', '191,83', '185,19', '194,05', '182,38', '148,63', '203,38', '211,44', '233,26', '272,85', '303,54', '280,15', '165,43', '303,95', '354,03', '383,14', '352,56', '302,60', '258,43', '249,07', '334,25', '366,40', '335,24', '362,06', '-'], ['194,74', '218,95', '218,21', '234,59', '234,28', '225,36', '201,43', '175,00', '219,25', '207,13', '191,42', '196,25', '203,91', '183,59', '147,72', '218,90', '229,81', '213,33', '213,88', '207,39', '177,81', '166,19', '191,04', '183,18', '191,13', '166,02', '162,85', '151,16', '158,82', '225,99', '-'], ['317,50', '302,92', '292,65', '551,43', '308,30', '274,35', '219,54', '248,11', '241,63', '217,91', '229,05', '239,96', '238,08', '227,92', '199,74', '152,01', '112,23', '123,55', '217,80', '206,02', '202,56', '200,52', '172,36', '149,01', '222,83', '243,57', '222,02', '230,20', '228,17', '200,93', '-']]\n"
     ]
    }
   ],
   "source": [
    "import numpy as np\n",
    "\n",
    "for tab in table_list:\n",
    "    tab_pd=pd.DataFrame(tab)#.to_csv#(\"UK_DA.csv\")\n",
    "    print(tab_pd)\n",
    "\n",
    "\n",
    "#print(tab_pd[0][0].split())  \n",
    "all_data = []\n",
    "\n",
    "#print()\n",
    "#print(tab_pd)\n",
    "col = []\n",
    "for i in range(len(tab_pd[0])):\n",
    "    sp = tab_pd[0][i].split()\n",
    "    if i == 0:\n",
    "        for j in range(len(sp)):\n",
    "            col.append([sp[j]])\n",
    "    else:\n",
    "        for j in range(len(sp)):\n",
    "            col[j].append(sp[j])\n",
    "    \n",
    "    #print(tab_pd[0][i].split())\n",
    "    #all_data.append([[tab_pd[0][i].split()][j] for j in range(len(tab_pd[0][i].split()))])\n",
    "col[10].append(\"-\")\n",
    "col[9].append(\"-\")\n",
    "col[8].append(\"-\")\n",
    "col[7].append(\"-\")\n",
    "\n",
    "print(col)\n",
    "    \n",
    "col[9][30] = col[6][30]\n",
    "col[7][30] = col[5][30]\n",
    "col[6][30] = col[4][30]\n",
    "col[5][30] = \"-\"\n",
    "col[4][30] = col[3][30]\n",
    "col[3][30] = \"-\"\n",
    "col[2][30] = col[2][30]\n",
    "\n",
    "#print(len(table_list[0][0]))\n",
    "\n",
    "nme = {\"Day\":col[0], \"Jan-23\":col[1], \"Dec-22\":col[2], \"Nov-22\":col[3],  \"Oct-22\":col[4], \"Sep-22\":col[5], \"Aug-22\":col[6], \"Jul-22\":col[7], \"Jun-22\":col[8], \"May-22\":col[9], \"Apr-22\":col[10]}\n",
    "\n",
    "\n",
    "NewTable = pd.DataFrame(nme).to_csv(\"BZ_FR_20220401-20230131.csv\")"
   ]
  },
  {
   "cell_type": "code",
   "execution_count": null,
   "id": "b89bfc7b",
   "metadata": {},
   "outputs": [],
   "source": []
  }
 ],
 "metadata": {
  "kernelspec": {
   "display_name": "Python 3 (ipykernel)",
   "language": "python",
   "name": "python3"
  },
  "language_info": {
   "codemirror_mode": {
    "name": "ipython",
    "version": 3
   },
   "file_extension": ".py",
   "mimetype": "text/x-python",
   "name": "python",
   "nbconvert_exporter": "python",
   "pygments_lexer": "ipython3",
   "version": "3.9.13"
  }
 },
 "nbformat": 4,
 "nbformat_minor": 5
}
