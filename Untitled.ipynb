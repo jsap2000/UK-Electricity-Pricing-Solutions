{
 "cells": [
  {
   "cell_type": "code",
   "execution_count": 32,
   "id": "5e752c75",
   "metadata": {},
   "outputs": [],
   "source": [
    "import numpy as np\n",
    "import pandas as pd\n",
    "from scipy import stats\n",
    "from scipy import special\n",
    "\n",
    "%store -r GBGen\n",
    "\n",
    "y_data = GBGen[\"GB DAEP [EUR/MWh]\"]\n",
    "x_data = GBGen[\"Wind [MWh]\"]"
   ]
  },
  {
   "cell_type": "code",
   "execution_count": 26,
   "id": "12a0b7c3",
   "metadata": {},
   "outputs": [
    {
     "name": "stdout",
     "output_type": "stream",
     "text": [
      "[[1.003210e+05 6.840000e+01]\n",
      " [8.947100e+04 7.154000e+01]\n",
      " [1.491025e+05 6.527000e+01]\n",
      " ...\n",
      " [3.445615e+05 5.251000e+01]\n",
      " [3.718295e+05 9.239000e+01]\n",
      " [2.062110e+05 1.473900e+02]]\n",
      "2\n",
      "730\n"
     ]
    }
   ],
   "source": [
    "a = np.column_stack((x_data, y_data))\n",
    "print(a)\n",
    "\n",
    "n_vars = a.shape[1-0]\n",
    "print(n_vars)\n",
    "\n",
    "n_obs = a.shape[0]\n",
    "print(n_obs)"
   ]
  },
  {
   "cell_type": "code",
   "execution_count": 43,
   "id": "e3472639",
   "metadata": {
    "scrolled": true
   },
   "outputs": [
    {
     "name": "stdout",
     "output_type": "stream",
     "text": [
      "[[265.  68.]\n",
      " [231.  80.]\n",
      " [382.  44.]\n",
      " ...\n",
      " [724.   9.]\n",
      " [729. 164.]\n",
      " [513. 324.]]\n",
      "[[ 1.         -0.12496018]\n",
      " [-0.12496018  1.        ]]\n",
      "68.0\n"
     ]
    }
   ],
   "source": [
    "a_ranked = np.apply_along_axis(stats.rankdata, 0, a)\n",
    "print(a_ranked)\n",
    "\n",
    "rs = np.corrcoef(a_ranked, rowvar=0)\n",
    "print(rs)\n",
    "\n",
    "print(a_ranked[0,1])"
   ]
  },
  {
   "cell_type": "code",
   "execution_count": 46,
   "id": "12ab95d5",
   "metadata": {},
   "outputs": [
    {
     "name": "stdout",
     "output_type": "stream",
     "text": [
      "-0.12496219302704459\n"
     ]
    }
   ],
   "source": [
    "rhos = 1 - (6*sum((a_ranked[:,0]-a_ranked[:,1])**2))/(n_obs*(n_obs**2-2))\n",
    "print(rhos)"
   ]
  },
  {
   "cell_type": "code",
   "execution_count": 47,
   "id": "f3a69c84",
   "metadata": {},
   "outputs": [
    {
     "name": "stdout",
     "output_type": "stream",
     "text": [
      "728\n",
      "0.0007150992080773666\n"
     ]
    }
   ],
   "source": [
    "dof = n_obs - 2\n",
    "print(dof)\n",
    "\n",
    "with np.errstate(divide='ignore'):\n",
    "        # clip the small negative values possibly caused by rounding\n",
    "        # errors before taking the square root\n",
    "        t = rs * np.sqrt((dof/((rs+1.0)*(1.0-rs))).clip(0))\n",
    "        \n",
    "pval = special.stdtr(dof, -np.abs(t))*2\n",
    "prob = pval[1,0]\n",
    "print(prob)"
   ]
  },
  {
   "cell_type": "code",
   "execution_count": 56,
   "id": "33a09bc9",
   "metadata": {},
   "outputs": [
    {
     "ename": "SyntaxError",
     "evalue": "invalid syntax (1247909308.py, line 1)",
     "output_type": "error",
     "traceback": [
      "\u001b[1;36m  File \u001b[1;32m\"C:\\Users\\anton_zpf58tt\\AppData\\Local\\Temp\\ipykernel_5068\\1247909308.py\"\u001b[1;36m, line \u001b[1;32m1\u001b[0m\n\u001b[1;33m    test = special.gamma((dof+1)/2)/(np.sqrt(dof*np.pi)*special.gamma(dof/2.))*special.integral((1+x**2/dof)**(-dof/2-1/2), x=-inf..t)\u001b[0m\n\u001b[1;37m                                                                                                                                   ^\u001b[0m\n\u001b[1;31mSyntaxError\u001b[0m\u001b[1;31m:\u001b[0m invalid syntax\n"
     ]
    }
   ],
   "source": [
    "\n",
    "\n",
    "test = special.gamma((dof+1)/2)/(np.sqrt(dof*np.pi)*special.gamma(dof/2))*special.integral((1+x**2/dof)**(-dof/2-1/2), x=-inf..t)"
   ]
  },
  {
   "cell_type": "code",
   "execution_count": 13,
   "id": "c3e3b9fc",
   "metadata": {},
   "outputs": [],
   "source": [
    "def _chk_asarray(a, axis):\n",
    "    if axis is None:\n",
    "        a = np.ravel(a)\n",
    "        outaxis = 0\n",
    "    else:\n",
    "        a = np.asarray(a)\n",
    "        outaxis = axis\n",
    "\n",
    "    if a.ndim == 0:\n",
    "        a = np.atleast_1d(a)\n",
    "\n",
    "    return a, outaxis\n",
    "\n",
    "def spearmanr(a, b=None, axis=0, nan_policy='propagate',\n",
    "              alternative='two-sided'):\n",
    "\n",
    "    if axis is not None and axis > 1:\n",
    "        raise ValueError(\"spearmanr only handles 1-D or 2-D arrays, \"\n",
    "                         \"supplied axis argument {}, please use only \"\n",
    "                         \"values 0, 1 or None for axis\".format(axis))\n",
    "\n",
    "    a, axisout = _chk_asarray(a, axis)\n",
    "    if a.ndim > 2:\n",
    "        raise ValueError(\"spearmanr only handles 1-D or 2-D arrays\")\n",
    "\n",
    "    if b is None:\n",
    "        if a.ndim < 2:\n",
    "            raise ValueError(\"`spearmanr` needs at least 2 \"\n",
    "                             \"variables to compare\")\n",
    "    else:\n",
    "        # Concatenate a and b, so that we now only have to handle the case\n",
    "        # of a 2-D `a`.\n",
    "        b, _ = _chk_asarray(b, axis)\n",
    "        if axisout == 0:\n",
    "            a = np.column_stack((a, b))\n",
    "        else:\n",
    "            a = np.row_stack((a, b))\n",
    "\n",
    "    n_vars = a.shape[1 - axisout]\n",
    "    n_obs = a.shape[axisout]\n",
    "    if n_obs <= 1:\n",
    "        # Handle empty arrays or single observations.\n",
    "        res = SignificanceResult(np.nan, np.nan)\n",
    "        res.correlation = np.nan\n",
    "        return res\n",
    "\n",
    "    warn_msg = (\"An input array is constant; the correlation coefficient \"\n",
    "                \"is not defined.\")\n",
    "    if axisout == 0:\n",
    "        if (a[:, 0][0] == a[:, 0]).all() or (a[:, 1][0] == a[:, 1]).all():\n",
    "            # If an input is constant, the correlation coefficient\n",
    "            # is not defined.\n",
    "            warnings.warn(stats.ConstantInputWarning(warn_msg))\n",
    "            res = SignificanceResult(np.nan, np.nan)\n",
    "            res.correlation = np.nan\n",
    "            return res\n",
    "    else:  # case when axisout == 1 b/c a is 2 dim only\n",
    "        if (a[0, :][0] == a[0, :]).all() or (a[1, :][0] == a[1, :]).all():\n",
    "            # If an input is constant, the correlation coefficient\n",
    "            # is not defined.\n",
    "            warnings.warn(stats.ConstantInputWarning(warn_msg))\n",
    "            res = SignificanceResult(np.nan, np.nan)\n",
    "            res.correlation = np.nan\n",
    "            return res\n",
    "\n",
    "    a_contains_nan, nan_policy = _contains_nan(a, nan_policy)\n",
    "    variable_has_nan = np.zeros(n_vars, dtype=bool)\n",
    "    if a_contains_nan:\n",
    "        if nan_policy == 'omit':\n",
    "            return mstats_basic.spearmanr(a, axis=axis, nan_policy=nan_policy,\n",
    "                                          alternative=alternative)\n",
    "        elif nan_policy == 'propagate':\n",
    "            if a.ndim == 1 or n_vars <= 2:\n",
    "                res = SignificanceResult(np.nan, np.nan)\n",
    "                res.correlation = np.nan\n",
    "                return res\n",
    "            else:\n",
    "                # Keep track of variables with NaNs, set the outputs to NaN\n",
    "                # only for those variables\n",
    "                variable_has_nan = np.isnan(a).any(axis=axisout)\n",
    "\n",
    "    a_ranked = np.apply_along_axis(rankdata, axisout, a)\n",
    "    rs = np.corrcoef(a_ranked, rowvar=axisout)\n",
    "    dof = n_obs - 2  # degrees of freedom\n",
    "\n",
    "    # rs can have elements equal to 1, so avoid zero division warnings\n",
    "    with np.errstate(divide='ignore'):\n",
    "        # clip the small negative values possibly caused by rounding\n",
    "        # errors before taking the square root\n",
    "        t = rs * np.sqrt((dof/((rs+1.0)*(1.0-rs))).clip(0))\n",
    "\n",
    "    t, prob = _ttest_finish(dof, t, alternative)\n",
    "\n",
    "    # For backwards compatibility, return scalars when comparing 2 columns\n",
    "    if rs.shape == (2, 2):\n",
    "        res = SignificanceResult(rs[1, 0], prob[1, 0])\n",
    "        res.correlation = rs[1, 0]\n",
    "        return res\n",
    "    else:\n",
    "        rs[variable_has_nan, :] = np.nan\n",
    "        rs[:, variable_has_nan] = np.nan\n",
    "        res = SignificanceResult(rs, prob)\n",
    "        res.correlation = rs\n",
    "        return res"
   ]
  },
  {
   "cell_type": "code",
   "execution_count": 9,
   "id": "897d84ec",
   "metadata": {},
   "outputs": [
    {
     "ename": "NameError",
     "evalue": "name '_contains_nan' is not defined",
     "output_type": "error",
     "traceback": [
      "\u001b[1;31m---------------------------------------------------------------------------\u001b[0m",
      "\u001b[1;31mNameError\u001b[0m                                 Traceback (most recent call last)",
      "\u001b[1;32m~\\AppData\\Local\\Temp\\ipykernel_5068\\4114567275.py\u001b[0m in \u001b[0;36m<module>\u001b[1;34m\u001b[0m\n\u001b[1;32m----> 1\u001b[1;33m \u001b[0mspearmanr\u001b[0m\u001b[1;33m(\u001b[0m\u001b[0mx_data\u001b[0m\u001b[1;33m,\u001b[0m \u001b[0my_data\u001b[0m\u001b[1;33m)\u001b[0m\u001b[1;33m\u001b[0m\u001b[1;33m\u001b[0m\u001b[0m\n\u001b[0m\u001b[0;32m      2\u001b[0m \u001b[0mprint\u001b[0m\u001b[1;33m(\u001b[0m\u001b[0mn_vars\u001b[0m\u001b[1;33m)\u001b[0m\u001b[1;33m\u001b[0m\u001b[1;33m\u001b[0m\u001b[0m\n",
      "\u001b[1;32m~\\AppData\\Local\\Temp\\ipykernel_5068\\1224734661.py\u001b[0m in \u001b[0;36mspearmanr\u001b[1;34m(a, b, axis, nan_policy, alternative)\u001b[0m\n\u001b[0;32m     64\u001b[0m             \u001b[1;32mreturn\u001b[0m \u001b[0mres\u001b[0m\u001b[1;33m\u001b[0m\u001b[1;33m\u001b[0m\u001b[0m\n\u001b[0;32m     65\u001b[0m \u001b[1;33m\u001b[0m\u001b[0m\n\u001b[1;32m---> 66\u001b[1;33m     \u001b[0ma_contains_nan\u001b[0m\u001b[1;33m,\u001b[0m \u001b[0mnan_policy\u001b[0m \u001b[1;33m=\u001b[0m \u001b[0m_contains_nan\u001b[0m\u001b[1;33m(\u001b[0m\u001b[0ma\u001b[0m\u001b[1;33m,\u001b[0m \u001b[0mnan_policy\u001b[0m\u001b[1;33m)\u001b[0m\u001b[1;33m\u001b[0m\u001b[1;33m\u001b[0m\u001b[0m\n\u001b[0m\u001b[0;32m     67\u001b[0m     \u001b[0mvariable_has_nan\u001b[0m \u001b[1;33m=\u001b[0m \u001b[0mnp\u001b[0m\u001b[1;33m.\u001b[0m\u001b[0mzeros\u001b[0m\u001b[1;33m(\u001b[0m\u001b[0mn_vars\u001b[0m\u001b[1;33m,\u001b[0m \u001b[0mdtype\u001b[0m\u001b[1;33m=\u001b[0m\u001b[0mbool\u001b[0m\u001b[1;33m)\u001b[0m\u001b[1;33m\u001b[0m\u001b[1;33m\u001b[0m\u001b[0m\n\u001b[0;32m     68\u001b[0m     \u001b[1;32mif\u001b[0m \u001b[0ma_contains_nan\u001b[0m\u001b[1;33m:\u001b[0m\u001b[1;33m\u001b[0m\u001b[1;33m\u001b[0m\u001b[0m\n",
      "\u001b[1;31mNameError\u001b[0m: name '_contains_nan' is not defined"
     ]
    }
   ],
   "source": [
    "spearmanr(x_data, y_data)\n",
    "print(n_vars)"
   ]
  },
  {
   "cell_type": "code",
   "execution_count": null,
   "id": "861f2364",
   "metadata": {},
   "outputs": [],
   "source": []
  }
 ],
 "metadata": {
  "kernelspec": {
   "display_name": "Python 3 (ipykernel)",
   "language": "python",
   "name": "python3"
  },
  "language_info": {
   "codemirror_mode": {
    "name": "ipython",
    "version": 3
   },
   "file_extension": ".py",
   "mimetype": "text/x-python",
   "name": "python",
   "nbconvert_exporter": "python",
   "pygments_lexer": "ipython3",
   "version": "3.9.13"
  }
 },
 "nbformat": 4,
 "nbformat_minor": 5
}
