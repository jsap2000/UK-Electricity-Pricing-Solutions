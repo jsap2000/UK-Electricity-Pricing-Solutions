{
 "cells": [
  {
   "cell_type": "code",
   "execution_count": 13,
   "id": "bb84c136",
   "metadata": {},
   "outputs": [],
   "source": [
    "import xml.etree.ElementTree as ET\n",
    "import csv\n",
    "\n",
    "tree = ET.parse(\"eurgbpforex.xml\")\n",
    "root = tree.getroot()\n",
    " \n",
    "Resident_data = open('EUR_GBP_FOREX.csv', 'w')\n",
    " \n",
    "csvwriter = csv.writer(Resident_data)\n",
    "resident_head = []\n",
    " \n",
    "count = 0\n",
    "for member in root.findall('Resident'):\n",
    "    resident = []\n",
    "    address_list = []\n",
    "    if count == 0:\n",
    "        name = member.find('Name').tag\n",
    "        resident_head.append(name)\n",
    "        Phone = member.find('Phone').tag\n",
    "        resident_head.append(Phone)\n",
    "        Email = member.find('Email').tag\n",
    "        resident_head.append(Email)\n",
    "         \n",
    "        csvwriter.writerow(resident_head)\n",
    "        count = count + 1\n",
    " \n",
    "    name = member.find('Name').text\n",
    "    resident.append(name)\n",
    "    Phone = member.find('Phone').text\n",
    "    resident.append(Phone)\n",
    "    Email = member.find('Email').text\n",
    "    resident.append(Email)\n",
    "     \n",
    "    csvwriter.writerow(resident)\n",
    " \n",
    " \n",
    "Resident_data.close()"
   ]
  },
  {
   "cell_type": "code",
   "execution_count": null,
   "id": "f846ad93",
   "metadata": {},
   "outputs": [],
   "source": [
    "from lxml import etree as ET\n",
    "tree_org = ET.parse('timeseries_import.xml')\n",
    "root_org = tree_org.getroot()\n",
    "values = []\n",
    "for element in root_org.iter():\n",
    "     if element.tag == '{http://www.test.nl/test/PI}event':\n",
    "        for i in element.iter():\n",
    "            values.append(i.attrib['value'])"
   ]
  }
 ],
 "metadata": {
  "kernelspec": {
   "display_name": "Python 3 (ipykernel)",
   "language": "python",
   "name": "python3"
  },
  "language_info": {
   "codemirror_mode": {
    "name": "ipython",
    "version": 3
   },
   "file_extension": ".py",
   "mimetype": "text/x-python",
   "name": "python",
   "nbconvert_exporter": "python",
   "pygments_lexer": "ipython3",
   "version": "3.9.13"
  }
 },
 "nbformat": 4,
 "nbformat_minor": 5
}
